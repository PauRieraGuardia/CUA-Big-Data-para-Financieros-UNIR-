{
 "cells": [
  {
   "cell_type": "markdown",
   "id": "72c4f8bc-f7f2-4750-a581-14a79b81274c",
   "metadata": {},
   "source": [
    "## Representación numérica de documentos \n",
    "\n",
    "En este notebook veremos como representar documentos siguiendo la metodología Bag of Words (BoW)\n",
    "\n",
    "La metodología Bag of Words (BoW) representa vectorialmente documentos ignorando el orden de las palabras. Para implementar este método hay que disponer de tres elementos:\n",
    "\n",
    "1. Un corpus con varios documentos\n",
    "2. Un vocabulario de las palabras de nuestro corpus.\n",
    "3. Una métrica para medir la presencia o no de palabras en los documentos.\n",
    "\n",
    "En esta ocasión utilizaremos las funcionalidades que nos brinda Scikit-Learn para calcular la representación de nuestros textos."
   ]
  },
  {
   "cell_type": "markdown",
   "id": "6d666276-88e0-48bc-bcc6-95db12cd0c83",
   "metadata": {},
   "source": [
    "### Obtención de un corpus\n",
    "\n",
    "Para este ejercicio vamos a trabajar con un corpus pequeño, que nos permita ver y entender fácilmente los parámetros de las funciones."
   ]
  },
  {
   "cell_type": "code",
   "execution_count": 4,
   "id": "d402d5d7-243d-4dc0-af55-78cc540d819c",
   "metadata": {
    "tags": []
   },
   "outputs": [],
   "source": [
    "corpus = [\"Yo quiero agua\", \"Yo quiero cocacola\",\"Yo quiero agua y un agua\",\"Yo no quiero vino\",\"Yo quiero un entrecto\"]\n"
   ]
  },
  {
   "cell_type": "markdown",
   "id": "9589b765-8239-4287-9031-c9394e911655",
   "metadata": {},
   "source": [
    "### Vocabulario de palabras\n",
    "\n",
    "En scikit-learn podemos utilizar distintas funciones para obtener el vocabulario de un cropus de documentos. Ambas están presentes dentro del m\n",
    "odulo feature_extraction,text y son <code>CountVectorizer</code> y <code>TfidfVectorizer</code>. Vamos a crear un objeto con cada una de esas clases para introducir nuestro corpus y extraer el vocabulario."
   ]
  },
  {
   "cell_type": "code",
   "execution_count": 9,
   "id": "be96b21c-da9f-4d64-87a0-47efdb28e43b",
   "metadata": {
    "tags": []
   },
   "outputs": [],
   "source": [
    "from sklearn.feature_extraction.text import CountVectorizer, TfidfVectorizer\n",
    "from sklearn.feature_extraction import text\n",
    "\n",
    "# Creamos los objetos\n",
    "count_vectorizer = CountVectorizer()\n",
    "tfidf_vectorizer = TfidfVectorizer(norm=None,smooth_idf=False) "
   ]
  },
  {
   "cell_type": "code",
   "execution_count": 11,
   "id": "01ff4cc8-b750-4d04-876f-b34341e42c09",
   "metadata": {
    "tags": []
   },
   "outputs": [],
   "source": [
    "# Obtenemos Fit con nuestro corpus\n",
    "\n",
    "count_data = count_vectorizer.fit(corpus)\n",
    "tfidf_data = tfidf_vectorizer.fit(corpus)"
   ]
  },
  {
   "cell_type": "code",
   "execution_count": 13,
   "id": "f866fc1b-16bc-4ca0-aeba-d4c7bf02de02",
   "metadata": {
    "tags": []
   },
   "outputs": [
    {
     "name": "stdout",
     "output_type": "stream",
     "text": [
      "COUNT VECTORIXER\n",
      "Obtenemos un dictionario que mapea las palabras con su posición en el vector del vocabulario\n",
      "{'yo': 7, 'quiero': 4, 'agua': 0, 'cocacola': 1, 'un': 5, 'no': 3, 'vino': 6, 'entrecto': 2}\n"
     ]
    }
   ],
   "source": [
    "# Obtenemos los vocabularios de dos formas: \n",
    "\n",
    "print(\"COUNT VECTORIXER\")\n",
    "print(\"Obtenemos un dictionario que mapea las palabras con su posición en el vector del vocabulario\")\n",
    "print(count_data.vocabulary_)"
   ]
  },
  {
   "cell_type": "code",
   "execution_count": 15,
   "id": "f1cafa7c-9715-4729-b51d-29ed9ae79695",
   "metadata": {
    "tags": []
   },
   "outputs": [
    {
     "name": "stdout",
     "output_type": "stream",
     "text": [
      "Obtenemos el vocabulario en si mismo como una lista\n",
      "['agua' 'cocacola' 'entrecto' 'no' 'quiero' 'un' 'vino' 'yo']\n",
      "Numero de características:\n",
      "8\n"
     ]
    }
   ],
   "source": [
    "print(\"Obtenemos el vocabulario en si mismo como una lista\")\n",
    "print(count_data.get_feature_names_out())\n",
    "print(\"Numero de características:\")\n",
    "print(len(count_data.get_feature_names_out()))"
   ]
  },
  {
   "cell_type": "code",
   "execution_count": 17,
   "id": "4268534c-5680-4d32-a788-77afcc78b2ac",
   "metadata": {
    "tags": []
   },
   "outputs": [
    {
     "name": "stdout",
     "output_type": "stream",
     "text": [
      "\n",
      "\n",
      " TF-IDF VECTORIZER\n",
      "Obtenemos un dictionario que mapea las palabras con su posición en el vector del vocabulario\n",
      "{'yo': 7, 'quiero': 4, 'agua': 0, 'cocacola': 1, 'un': 5, 'no': 3, 'vino': 6, 'entrecto': 2}\n",
      "Obtenemos el vocabulario en si mismo como una lista\n",
      "['agua' 'cocacola' 'entrecto' 'no' 'quiero' 'un' 'vino' 'yo']\n",
      "Numero de características:\n",
      "8\n"
     ]
    }
   ],
   "source": [
    "# Obviamente, dado que hemos utilizado el mismo corpus, obtenemos el mismo resultado con el tfidf_vectorizer.\n",
    "print(\"\\n\\n TF-IDF VECTORIZER\")\n",
    "print(\"Obtenemos un dictionario que mapea las palabras con su posición en el vector del vocabulario\")\n",
    "print(tfidf_data.vocabulary_)\n",
    "print(\"Obtenemos el vocabulario en si mismo como una lista\")\n",
    "print(tfidf_data.get_feature_names_out())\n",
    "print(\"Numero de características:\")\n",
    "print(len(tfidf_data.get_feature_names_out()))"
   ]
  },
  {
   "cell_type": "markdown",
   "id": "953f3b70-e15e-423d-a64c-122777428e76",
   "metadata": {},
   "source": [
    "### Resultados con distintas métricas\n",
    "\n",
    "En esta ocasión vamos a mostrar los resultados con dos métricas distintas. El <code> CountVectorizer</code> mostrará el conteo de veces que una palabra del vocabulario está presente dentro del documento, el <code>TfidfVectorizer </code> mostrará el resutlado con la métrica TF-IDF mostrada en los apuntes."
   ]
  },
  {
   "cell_type": "code",
   "execution_count": 20,
   "id": "e74a9686-51f7-46ba-b300-5c21ea57afb5",
   "metadata": {
    "tags": []
   },
   "outputs": [
    {
     "name": "stdout",
     "output_type": "stream",
     "text": [
      "[[1 0 0 0 1 0 0 1]\n",
      " [0 1 0 0 1 0 0 1]\n",
      " [2 0 0 0 1 1 0 1]\n",
      " [0 0 0 1 1 0 1 1]\n",
      " [0 0 1 0 1 1 0 1]]\n"
     ]
    }
   ],
   "source": [
    "# Resultado del CountVectorizer \n",
    "count_data_result = count_data.transform(corpus).toarray()\n",
    "print(count_data_result)"
   ]
  },
  {
   "cell_type": "code",
   "execution_count": 24,
   "id": "6557623e-e015-438f-abc4-8bfdbba74a20",
   "metadata": {
    "tags": []
   },
   "outputs": [
    {
     "name": "stdout",
     "output_type": "stream",
     "text": [
      "[[1.91629073 0.         0.         0.         1.         0.\n",
      "  0.         1.        ]\n",
      " [0.         2.60943791 0.         0.         1.         0.\n",
      "  0.         1.        ]\n",
      " [3.83258146 0.         0.         0.         1.         1.91629073\n",
      "  0.         1.        ]\n",
      " [0.         0.         0.         2.60943791 1.         0.\n",
      "  2.60943791 1.        ]\n",
      " [0.         0.         2.60943791 0.         1.         1.91629073\n",
      "  0.         1.        ]]\n"
     ]
    }
   ],
   "source": [
    "# Resultado del TfidfVectorizer\n",
    "tfidf_data_result = tfidf_data.transform(corpus).toarray()\n",
    "print(tfidf_data_result)"
   ]
  },
  {
   "cell_type": "markdown",
   "id": "1db2a138-d2de-40bc-978a-fbf2e7d7ba00",
   "metadata": {},
   "source": [
    "Vamos a mostrar los resultados con seaborn para que se vean mejor. Importante mencionar que esto se puede hacer cuando el vocabulario es muy reducido, si no podría ocasionar problemas en la memoria."
   ]
  },
  {
   "cell_type": "code",
   "execution_count": 33,
   "id": "d28db0c8-1603-45d9-8111-c52c47c63093",
   "metadata": {
    "tags": []
   },
   "outputs": [
    {
     "data": {
      "text/plain": [
       "<Axes: >"
      ]
     },
     "execution_count": 33,
     "metadata": {},
     "output_type": "execute_result"
    },
    {
     "data": {
      "image/png": "[encoded data removed]",
      "text/plain": [
       "<Figure size 1600x600 with 1 Axes>"
      ]
     },
     "metadata": {},
     "output_type": "display_data"
    }
   ],
   "source": [
    "import matplotlib.pyplot as plt\n",
    "import seaborn as sns\n",
    "plt.figure(figsize=(16,6))\n",
    "# Figura CountVectorizer\n",
    "sns.heatmap(count_data_result, annot=True, cbar=False,\n",
    "           xticklabels=count_data.get_feature_names_out(),\n",
    "           yticklabels = [\"Frase 1\",\"Frase 2\",\"Frase 3\", \"Frase 4\", \"Frase 5\"])"
   ]
  },
  {
   "cell_type": "code",
   "execution_count": 35,
   "id": "881de749-5f9a-451d-bdac-4c4acf607fdf",
   "metadata": {
    "tags": []
   },
   "outputs": [
    {
     "data": {
      "text/plain": [
       "<Axes: >"
      ]
     },
     "execution_count": 35,
     "metadata": {},
     "output_type": "execute_result"
    },
    {
     "data": {
      "image/png": "[encoded data removed]",
      "text/plain": [
       "<Figure size 1600x600 with 1 Axes>"
      ]
     },
     "metadata": {},
     "output_type": "display_data"
    }
   ],
   "source": [
    "plt.figure(figsize = (16,6))\n",
    "sns.heatmap(tfidf_data_result, annot=True,cbar=False,\n",
    "            xticklabels=count_data.get_feature_names_out(),\n",
    "           yticklabels = [\"Frase 1\",\"Frase 2\",\"Frase 3\", \"Frase 4\", \"Frase 5\"])"
   ]
  }
 ],
 "metadata": {
  "kernelspec": {
   "display_name": "Python 3 (ipykernel)",
   "language": "python",
   "name": "python3"
  },
  "language_info": {
   "codemirror_mode": {
    "name": "ipython",
    "version": 3
   },
   "file_extension": ".py",
   "mimetype": "text/x-python",
   "name": "python",
   "nbconvert_exporter": "python",
   "pygments_lexer": "ipython3",
   "version": "3.11.7"
  }
 },
 "nbformat": 4,
 "nbformat_minor": 5
}

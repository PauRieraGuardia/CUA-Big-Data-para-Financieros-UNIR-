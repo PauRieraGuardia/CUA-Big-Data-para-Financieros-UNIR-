{
 "cells": [
  {
   "cell_type": "markdown",
   "id": "9ec6d866-7a29-47db-9277-9aa6b9ed9691",
   "metadata": {},
   "source": [
    "## Text Classification"
   ]
  },
  {
   "cell_type": "code",
   "execution_count": 2,
   "id": "17027282-703e-4bf2-a5ff-f95813b231e2",
   "metadata": {
    "tags": []
   },
   "outputs": [
    {
     "name": "stderr",
     "output_type": "stream",
     "text": [
      "[nltk_data] Downloading package stopwords to\n",
      "[nltk_data]     C:\\Users\\pauri\\AppData\\Roaming\\nltk_data...\n",
      "[nltk_data]   Package stopwords is already up-to-date!\n",
      "[nltk_data] Downloading package punkt to\n",
      "[nltk_data]     C:\\Users\\pauri\\AppData\\Roaming\\nltk_data...\n",
      "[nltk_data]   Package punkt is already up-to-date!\n",
      "[nltk_data] Downloading package wordnet to\n",
      "[nltk_data]     C:\\Users\\pauri\\AppData\\Roaming\\nltk_data...\n",
      "[nltk_data]   Package wordnet is already up-to-date!\n",
      "[nltk_data] Downloading package averaged_perceptron_tagger to\n",
      "[nltk_data]     C:\\Users\\pauri\\AppData\\Roaming\\nltk_data...\n",
      "[nltk_data]   Package averaged_perceptron_tagger is already up-to-\n",
      "[nltk_data]       date!\n"
     ]
    },
    {
     "name": "stdout",
     "output_type": "stream",
     "text": [
      "Collecting contractions\n",
      "  Downloading contractions-0.1.73-py2.py3-none-any.whl.metadata (1.2 kB)\n",
      "Collecting textsearch>=0.0.21 (from contractions)\n",
      "  Downloading textsearch-0.0.24-py2.py3-none-any.whl.metadata (1.2 kB)\n",
      "Collecting anyascii (from textsearch>=0.0.21->contractions)\n",
      "  Downloading anyascii-0.3.2-py3-none-any.whl.metadata (1.5 kB)\n",
      "Collecting pyahocorasick (from textsearch>=0.0.21->contractions)\n",
      "  Downloading pyahocorasick-2.1.0-cp311-cp311-win_amd64.whl.metadata (13 kB)\n",
      "Downloading contractions-0.1.73-py2.py3-none-any.whl (8.7 kB)\n",
      "Downloading textsearch-0.0.24-py2.py3-none-any.whl (7.6 kB)\n",
      "Downloading anyascii-0.3.2-py3-none-any.whl (289 kB)\n",
      "   ---------------------------------------- 0.0/289.9 kB ? eta -:--:--\n",
      "   -------- ------------------------------- 61.4/289.9 kB 3.4 MB/s eta 0:00:01\n",
      "   ---------------------------------------  286.7/289.9 kB 4.5 MB/s eta 0:00:01\n",
      "   ---------------------------------------- 289.9/289.9 kB 3.6 MB/s eta 0:00:00\n",
      "Downloading pyahocorasick-2.1.0-cp311-cp311-win_amd64.whl (39 kB)\n",
      "Installing collected packages: pyahocorasick, anyascii, textsearch, contractions\n",
      "Successfully installed anyascii-0.3.2 contractions-0.1.73 pyahocorasick-2.1.0 textsearch-0.0.24\n",
      "Requirement already satisfied: spacy in c:\\users\\pauri\\anaconda3\\lib\\site-packages (3.8.4)\n",
      "Requirement already satisfied: spacy-legacy<3.1.0,>=3.0.11 in c:\\users\\pauri\\anaconda3\\lib\\site-packages (from spacy) (3.0.12)\n",
      "Requirement already satisfied: spacy-loggers<2.0.0,>=1.0.0 in c:\\users\\pauri\\anaconda3\\lib\\site-packages (from spacy) (1.0.5)\n",
      "Requirement already satisfied: murmurhash<1.1.0,>=0.28.0 in c:\\users\\pauri\\anaconda3\\lib\\site-packages (from spacy) (1.0.11)\n",
      "Requirement already satisfied: cymem<2.1.0,>=2.0.2 in c:\\users\\pauri\\anaconda3\\lib\\site-packages (from spacy) (2.0.10)\n",
      "Requirement already satisfied: preshed<3.1.0,>=3.0.2 in c:\\users\\pauri\\anaconda3\\lib\\site-packages (from spacy) (3.0.9)\n",
      "Requirement already satisfied: thinc<8.4.0,>=8.3.4 in c:\\users\\pauri\\anaconda3\\lib\\site-packages (from spacy) (8.3.4)\n",
      "Requirement already satisfied: wasabi<1.2.0,>=0.9.1 in c:\\users\\pauri\\anaconda3\\lib\\site-packages (from spacy) (1.1.3)\n",
      "Requirement already satisfied: srsly<3.0.0,>=2.4.3 in c:\\users\\pauri\\anaconda3\\lib\\site-packages (from spacy) (2.5.0)\n",
      "Requirement already satisfied: catalogue<2.1.0,>=2.0.6 in c:\\users\\pauri\\anaconda3\\lib\\site-packages (from spacy) (2.0.10)\n",
      "Requirement already satisfied: weasel<0.5.0,>=0.1.0 in c:\\users\\pauri\\anaconda3\\lib\\site-packages (from spacy) (0.4.1)\n",
      "Requirement already satisfied: typer<1.0.0,>=0.3.0 in c:\\users\\pauri\\anaconda3\\lib\\site-packages (from spacy) (0.15.1)\n",
      "Requirement already satisfied: tqdm<5.0.0,>=4.38.0 in c:\\users\\pauri\\anaconda3\\lib\\site-packages (from spacy) (4.65.0)\n",
      "Requirement already satisfied: numpy>=1.19.0 in c:\\users\\pauri\\anaconda3\\lib\\site-packages (from spacy) (1.26.4)\n",
      "Requirement already satisfied: requests<3.0.0,>=2.13.0 in c:\\users\\pauri\\anaconda3\\lib\\site-packages (from spacy) (2.32.3)\n",
      "Requirement already satisfied: pydantic!=1.8,!=1.8.1,<3.0.0,>=1.7.4 in c:\\users\\pauri\\anaconda3\\lib\\site-packages (from spacy) (1.10.12)\n",
      "Requirement already satisfied: jinja2 in c:\\users\\pauri\\anaconda3\\lib\\site-packages (from spacy) (3.1.3)\n",
      "Requirement already satisfied: setuptools in c:\\users\\pauri\\anaconda3\\lib\\site-packages (from spacy) (68.2.2)\n",
      "Requirement already satisfied: packaging>=20.0 in c:\\users\\pauri\\anaconda3\\lib\\site-packages (from spacy) (23.1)\n",
      "Requirement already satisfied: langcodes<4.0.0,>=3.2.0 in c:\\users\\pauri\\anaconda3\\lib\\site-packages (from spacy) (3.5.0)\n",
      "Requirement already satisfied: language-data>=1.2 in c:\\users\\pauri\\anaconda3\\lib\\site-packages (from langcodes<4.0.0,>=3.2.0->spacy) (1.3.0)\n",
      "Requirement already satisfied: typing-extensions>=4.2.0 in c:\\users\\pauri\\anaconda3\\lib\\site-packages (from pydantic!=1.8,!=1.8.1,<3.0.0,>=1.7.4->spacy) (4.9.0)\n",
      "Requirement already satisfied: charset-normalizer<4,>=2 in c:\\users\\pauri\\anaconda3\\lib\\site-packages (from requests<3.0.0,>=2.13.0->spacy) (2.0.4)\n",
      "Requirement already satisfied: idna<4,>=2.5 in c:\\users\\pauri\\anaconda3\\lib\\site-packages (from requests<3.0.0,>=2.13.0->spacy) (3.4)\n",
      "Requirement already satisfied: urllib3<3,>=1.21.1 in c:\\users\\pauri\\anaconda3\\lib\\site-packages (from requests<3.0.0,>=2.13.0->spacy) (2.0.7)\n",
      "Requirement already satisfied: certifi>=2017.4.17 in c:\\users\\pauri\\anaconda3\\lib\\site-packages (from requests<3.0.0,>=2.13.0->spacy) (2024.6.2)\n",
      "Requirement already satisfied: blis<1.3.0,>=1.2.0 in c:\\users\\pauri\\anaconda3\\lib\\site-packages (from thinc<8.4.0,>=8.3.4->spacy) (1.2.0)\n",
      "Requirement already satisfied: confection<1.0.0,>=0.0.1 in c:\\users\\pauri\\anaconda3\\lib\\site-packages (from thinc<8.4.0,>=8.3.4->spacy) (0.1.5)\n",
      "Requirement already satisfied: colorama in c:\\users\\pauri\\anaconda3\\lib\\site-packages (from tqdm<5.0.0,>=4.38.0->spacy) (0.4.6)\n",
      "Requirement already satisfied: click>=8.0.0 in c:\\users\\pauri\\anaconda3\\lib\\site-packages (from typer<1.0.0,>=0.3.0->spacy) (8.1.7)\n",
      "Requirement already satisfied: shellingham>=1.3.0 in c:\\users\\pauri\\anaconda3\\lib\\site-packages (from typer<1.0.0,>=0.3.0->spacy) (1.5.4)\n",
      "Requirement already satisfied: rich>=10.11.0 in c:\\users\\pauri\\anaconda3\\lib\\site-packages (from typer<1.0.0,>=0.3.0->spacy) (13.3.5)\n",
      "Requirement already satisfied: cloudpathlib<1.0.0,>=0.7.0 in c:\\users\\pauri\\anaconda3\\lib\\site-packages (from weasel<0.5.0,>=0.1.0->spacy) (0.20.0)\n",
      "Requirement already satisfied: smart-open<8.0.0,>=5.2.1 in c:\\users\\pauri\\anaconda3\\lib\\site-packages (from weasel<0.5.0,>=0.1.0->spacy) (5.2.1)\n",
      "Requirement already satisfied: MarkupSafe>=2.0 in c:\\users\\pauri\\anaconda3\\lib\\site-packages (from jinja2->spacy) (2.1.3)\n",
      "Requirement already satisfied: marisa-trie>=1.1.0 in c:\\users\\pauri\\anaconda3\\lib\\site-packages (from language-data>=1.2->langcodes<4.0.0,>=3.2.0->spacy) (1.2.1)\n",
      "Requirement already satisfied: markdown-it-py<3.0.0,>=2.2.0 in c:\\users\\pauri\\anaconda3\\lib\\site-packages (from rich>=10.11.0->typer<1.0.0,>=0.3.0->spacy) (2.2.0)\n",
      "Requirement already satisfied: pygments<3.0.0,>=2.13.0 in c:\\users\\pauri\\anaconda3\\lib\\site-packages (from rich>=10.11.0->typer<1.0.0,>=0.3.0->spacy) (2.15.1)\n",
      "Requirement already satisfied: mdurl~=0.1 in c:\\users\\pauri\\anaconda3\\lib\\site-packages (from markdown-it-py<3.0.0,>=2.2.0->rich>=10.11.0->typer<1.0.0,>=0.3.0->spacy) (0.1.0)\n",
      "Collecting en-core-web-sm==3.8.0\n",
      "  Downloading https://github.com/explosion/spacy-models/releases/download/en_core_web_sm-3.8.0/en_core_web_sm-3.8.0-py3-none-any.whl (12.8 MB)\n",
      "     ---------------------------------------- 0.0/12.8 MB ? eta -:--:--\n",
      "     --------------------------------------- 0.0/12.8 MB 640.0 kB/s eta 0:00:20\n",
      "     --------------------------------------- 0.0/12.8 MB 393.8 kB/s eta 0:00:33\n",
      "     --------------------------------------- 0.1/12.8 MB 819.2 kB/s eta 0:00:16\n",
      "     - -------------------------------------- 0.5/12.8 MB 3.0 MB/s eta 0:00:05\n",
      "     -- ------------------------------------- 0.9/12.8 MB 4.4 MB/s eta 0:00:03\n",
      "     ---- ----------------------------------- 1.4/12.8 MB 5.4 MB/s eta 0:00:03\n",
      "     ----- ---------------------------------- 1.8/12.8 MB 6.4 MB/s eta 0:00:02\n",
      "     ------- -------------------------------- 2.4/12.8 MB 7.2 MB/s eta 0:00:02\n",
      "     --------- ------------------------------ 3.0/12.8 MB 7.5 MB/s eta 0:00:02\n",
      "     ---------- ----------------------------- 3.5/12.8 MB 8.3 MB/s eta 0:00:02\n",
      "     ------------- -------------------------- 4.3/12.8 MB 9.1 MB/s eta 0:00:01\n",
      "     --------------- ------------------------ 4.8/12.8 MB 9.1 MB/s eta 0:00:01\n",
      "     ----------------- ---------------------- 5.5/12.8 MB 9.8 MB/s eta 0:00:01\n",
      "     ------------------ --------------------- 6.1/12.8 MB 10.0 MB/s eta 0:00:01\n",
      "     -------------------- ------------------- 6.7/12.8 MB 10.2 MB/s eta 0:00:01\n",
      "     ---------------------- ----------------- 7.2/12.8 MB 10.3 MB/s eta 0:00:01\n",
      "     ------------------------ --------------- 7.9/12.8 MB 10.8 MB/s eta 0:00:01\n",
      "     --------------------------- ------------ 8.7/12.8 MB 10.9 MB/s eta 0:00:01\n",
      "     ----------------------------- ---------- 9.6/12.8 MB 11.5 MB/s eta 0:00:01\n",
      "     ------------------------------ --------- 9.9/12.8 MB 11.1 MB/s eta 0:00:01\n",
      "     -------------------------------- ------ 10.7/12.8 MB 13.6 MB/s eta 0:00:01\n",
      "     ----------------------------------- --- 11.5/12.8 MB 13.6 MB/s eta 0:00:01\n",
      "     ------------------------------------- - 12.2/12.8 MB 14.2 MB/s eta 0:00:01\n",
      "     --------------------------------------  12.8/12.8 MB 14.5 MB/s eta 0:00:01\n",
      "     --------------------------------------- 12.8/12.8 MB 13.9 MB/s eta 0:00:00\n",
      "\u001b[38;5;2m[+] Download and installation successful\u001b[0m\n",
      "You can now load the package via spacy.load('en_core_web_sm')\n"
     ]
    }
   ],
   "source": [
    "import nltk \n",
    "nltk.download('stopwords')\n",
    "nltk.download('punkt')\n",
    "nltk.download('wordnet')\n",
    "nltk.download('averaged_perceptron_tagger')\n",
    "import sys\n",
    "!{sys.executable} -m pip install contractions\n",
    "\n",
    "!pip install spacy\n",
    "!python -m spacy download en_core_web_sm"
   ]
  },
  {
   "cell_type": "code",
   "execution_count": 8,
   "id": "070dc9d9-1d67-4650-86c2-af30505efdef",
   "metadata": {
    "tags": []
   },
   "outputs": [
    {
     "name": "stderr",
     "output_type": "stream",
     "text": [
      "C:\\Users\\pauri\\AppData\\Local\\Temp\\ipykernel_2332\\673078296.py:11: TqdmExperimentalWarning: Using `tqdm.autonotebook.tqdm` in notebook mode. Use `tqdm.tqdm` instead to force console mode (e.g. in jupyter console)\n",
      "  from tqdm.autonotebook import tqdm\n"
     ]
    }
   ],
   "source": [
    "# importación de librerias\n",
    "\n",
    "import matplotlib.pyplot as plt\n",
    "import numpy as np\n",
    "import pandas as pd\n",
    "import seaborn as sns \n",
    "import re\n",
    "import contractions\n",
    "from nltk.stem.wordnet import WordNetLemmatizer\n",
    "from nltk import word_tokenize, pos_tag\n",
    "from tqdm.autonotebook import tqdm\n",
    "tqdm.pandas()\n",
    "\n",
    "from sklearn.feature_extraction.text import TfidfVectorizer\n",
    "from sklearn.linear_model import LogisticRegression\n",
    "from sklearn.model_selection import train_test_split\n",
    "from sklearn.metrics import f1_score, confusion_matrix\n",
    "from sklearn.metrics import classification_report"
   ]
  },
  {
   "cell_type": "markdown",
   "id": "1805d8a9-1279-45a1-be66-34d04b15c946",
   "metadata": {},
   "source": [
    "### Cargar y preparar los datos\n",
    "\n",
    "En primer lugar, cargaremos la base de datos descargada anteriormente con titulares de noticias falsas y noticias verdaderas."
   ]
  },
  {
   "cell_type": "code",
   "execution_count": 13,
   "id": "639b3ae8-9c66-4182-b1ef-dc921707997f",
   "metadata": {
    "tags": []
   },
   "outputs": [],
   "source": [
    "dataset = pd.read_csv(\"C:/Users/pauri/OneDrive/Escritorio/PYTHON PROJECTS/CUA Big Data/fake_news_2_classification.csv\",sep=\";\")"
   ]
  },
  {
   "cell_type": "code",
   "execution_count": 15,
   "id": "555f9218-d562-47f1-8e2b-a9865fd46565",
   "metadata": {
    "tags": []
   },
   "outputs": [
    {
     "data": {
      "text/html": [
       "<div>\n",
       "<style scoped>\n",
       "    .dataframe tbody tr th:only-of-type {\n",
       "        vertical-align: middle;\n",
       "    }\n",
       "\n",
       "    .dataframe tbody tr th {\n",
       "        vertical-align: top;\n",
       "    }\n",
       "\n",
       "    .dataframe thead th {\n",
       "        text-align: right;\n",
       "    }\n",
       "</style>\n",
       "<table border=\"1\" class=\"dataframe\">\n",
       "  <thead>\n",
       "    <tr style=\"text-align: right;\">\n",
       "      <th></th>\n",
       "      <th>title</th>\n",
       "      <th>fake</th>\n",
       "    </tr>\n",
       "  </thead>\n",
       "  <tbody>\n",
       "    <tr>\n",
       "      <th>0</th>\n",
       "      <td>aba decides against community broadcasting lic...</td>\n",
       "      <td>0</td>\n",
       "    </tr>\n",
       "    <tr>\n",
       "      <th>1</th>\n",
       "      <td>act fire witnesses must be aware of defamation</td>\n",
       "      <td>0</td>\n",
       "    </tr>\n",
       "    <tr>\n",
       "      <th>2</th>\n",
       "      <td>a g calls for infrastructure protection summit</td>\n",
       "      <td>0</td>\n",
       "    </tr>\n",
       "    <tr>\n",
       "      <th>3</th>\n",
       "      <td>air nz staff in aust strike for pay rise</td>\n",
       "      <td>0</td>\n",
       "    </tr>\n",
       "    <tr>\n",
       "      <th>4</th>\n",
       "      <td>air nz strike to affect australian travellers</td>\n",
       "      <td>0</td>\n",
       "    </tr>\n",
       "    <tr>\n",
       "      <th>...</th>\n",
       "      <td>...</td>\n",
       "      <td>...</td>\n",
       "    </tr>\n",
       "    <tr>\n",
       "      <th>59592</th>\n",
       "      <td>Stocks Pump'n'Dump As Crude Crumbles To 3-Week...</td>\n",
       "      <td>1</td>\n",
       "    </tr>\n",
       "    <tr>\n",
       "      <th>59593</th>\n",
       "      <td>Tesla Earnings Smash Expectations After Dramat...</td>\n",
       "      <td>1</td>\n",
       "    </tr>\n",
       "    <tr>\n",
       "      <th>59594</th>\n",
       "      <td>Rules For Rulers (Or How The World Really Works)</td>\n",
       "      <td>1</td>\n",
       "    </tr>\n",
       "    <tr>\n",
       "      <th>59595</th>\n",
       "      <td>Caught On Tape: ISIS Destroys Iraqi Abrams Wit...</td>\n",
       "      <td>1</td>\n",
       "    </tr>\n",
       "    <tr>\n",
       "      <th>59596</th>\n",
       "      <td>ObamaCare Architect Admits \"The Law Is Working...</td>\n",
       "      <td>1</td>\n",
       "    </tr>\n",
       "  </tbody>\n",
       "</table>\n",
       "<p>59597 rows × 2 columns</p>\n",
       "</div>"
      ],
      "text/plain": [
       "                                                   title  fake\n",
       "0      aba decides against community broadcasting lic...     0\n",
       "1         act fire witnesses must be aware of defamation     0\n",
       "2         a g calls for infrastructure protection summit     0\n",
       "3               air nz staff in aust strike for pay rise     0\n",
       "4          air nz strike to affect australian travellers     0\n",
       "...                                                  ...   ...\n",
       "59592  Stocks Pump'n'Dump As Crude Crumbles To 3-Week...     1\n",
       "59593  Tesla Earnings Smash Expectations After Dramat...     1\n",
       "59594   Rules For Rulers (Or How The World Really Works)     1\n",
       "59595  Caught On Tape: ISIS Destroys Iraqi Abrams Wit...     1\n",
       "59596  ObamaCare Architect Admits \"The Law Is Working...     1\n",
       "\n",
       "[59597 rows x 2 columns]"
      ]
     },
     "execution_count": 15,
     "metadata": {},
     "output_type": "execute_result"
    }
   ],
   "source": [
    "dataset"
   ]
  },
  {
   "cell_type": "markdown",
   "id": "00def03c-4949-4686-a6b2-b6eb4d10cafb",
   "metadata": {},
   "source": [
    "Vamos a comprobar el tamaño del dataset:"
   ]
  },
  {
   "cell_type": "code",
   "execution_count": 21,
   "id": "757ef222-37c2-42d1-8f0f-e8685094ea2a",
   "metadata": {
    "tags": []
   },
   "outputs": [
    {
     "name": "stdout",
     "output_type": "stream",
     "text": [
      "Tenemos un conjunto de 59597 documentos\n",
      "El dataframe tiene 2 columnas\n"
     ]
    }
   ],
   "source": [
    "print(\"Tenemos un conjunto de {} documentos\".format(len(dataset)))\n",
    "print(\"El dataframe tiene {} columnas\".format(dataset.shape[1]))"
   ]
  },
  {
   "cell_type": "markdown",
   "id": "8df43c93-bfcc-4590-9726-d0f124232c6c",
   "metadata": {},
   "source": [
    "Despues, quitaremos las filas con algún valor vacio (NA) y quitaremos los duplciados."
   ]
  },
  {
   "cell_type": "code",
   "execution_count": 28,
   "id": "a2133f02-4fb4-4e7f-b7c3-4f6c31bf37c7",
   "metadata": {
    "tags": []
   },
   "outputs": [
    {
     "name": "stdout",
     "output_type": "stream",
     "text": [
      "Existen 30 noticias duplicadas\n",
      "Despues de quitar duplicados tenemos un conjunto de 59567 noticias\n"
     ]
    }
   ],
   "source": [
    "print(\"Existen {} noticias duplicadas\".format(np.sum(dataset.duplicated(subset=[\"title\"]))))\n",
    "# Quitaremos esos duplicados \n",
    "dataset = dataset.drop_duplicates()\n",
    "print(\"Despues de quitar duplicados tenemos un conjunto de {} noticias\".format(dataset.shape[0]))"
   ]
  },
  {
   "cell_type": "markdown",
   "id": "2ac6ccb5-3204-4cbb-97f0-48f38d04d3b2",
   "metadata": {},
   "source": [
    "Después de esto, comprobamos que no  hayan quedado Nulls en ingunas de las dos columnas del dataset."
   ]
  },
  {
   "cell_type": "code",
   "execution_count": 37,
   "id": "b4a995c0-c0c2-4e53-b657-678b34a77fca",
   "metadata": {
    "tags": []
   },
   "outputs": [
    {
     "name": "stdout",
     "output_type": "stream",
     "text": [
      "Hay 0 valores vacíos en las noticias y 0 valores vacíos en las etiquetas en los datos\n"
     ]
    },
    {
     "name": "stderr",
     "output_type": "stream",
     "text": [
      "C:\\Users\\pauri\\anaconda3\\Lib\\site-packages\\numpy\\core\\fromnumeric.py:86: FutureWarning: The behavior of DataFrame.sum with axis=None is deprecated, in a future version this will reduce over both axes and return a scalar. To retain the old behavior, pass axis=0 (or do not pass axis)\n",
      "  return reduction(axis=axis, out=out, **passkwargs)\n",
      "C:\\Users\\pauri\\AppData\\Local\\Temp\\ipykernel_2332\\733624939.py:1: FutureWarning: Series.__getitem__ treating keys as positions is deprecated. In a future version, integer keys will always be treated as labels (consistent with DataFrame behavior). To access a value by position, use `ser.iloc[pos]`\n",
      "  print(\"Hay {} valores vacíos en las noticias y {} valores vacíos en las etiquetas en los datos\".format(np.sum(dataset.isnull())[0],np.sum(dataset.isnull())[1]))\n"
     ]
    }
   ],
   "source": [
    "print(\"Hay {} valores vacíos en las noticias y {} valores vacíos en las etiquetas en los datos\".format(np.sum(dataset.isnull())[0],np.sum(dataset.isnull())[1]))"
   ]
  },
  {
   "cell_type": "markdown",
   "id": "155118cb-0574-4be5-8b69-a71cbad90434",
   "metadata": {},
   "source": [
    "### Análisis preliminar\n",
    "\n",
    "#### Etiquetas \n",
    "\n",
    "Vamos a comprobar el número de etiquetas de cada clase en la columna \"fake\", la columna correspondiente a las etiquetas."
   ]
  },
  {
   "cell_type": "code",
   "execution_count": 40,
   "id": "0ba7cb96-672c-40d6-aa96-73feff15239a",
   "metadata": {
    "tags": []
   },
   "outputs": [
    {
     "data": {
      "text/plain": [
       "fake\n",
       "0    30000\n",
       "1    29567\n",
       "Name: count, dtype: int64"
      ]
     },
     "execution_count": 40,
     "metadata": {},
     "output_type": "execute_result"
    }
   ],
   "source": [
    "dataset[\"fake\"].value_counts()"
   ]
  },
  {
   "cell_type": "markdown",
   "id": "24ab4e15-3cc1-4f9e-ac14-96d200cc6b4e",
   "metadata": {},
   "source": [
    "Disponemos de 30.000 noticias verdareas (valor 0) y 29.567 noticias falsas (valor 1).\n",
    "\n",
    "Vamos a dibujar un histograma"
   ]
  },
  {
   "cell_type": "code",
   "execution_count": 47,
   "id": "f8e66bfe-5fea-40b3-a576-cb27593660b5",
   "metadata": {
    "tags": []
   },
   "outputs": [
    {
     "ename": "NameError",
     "evalue": "name 'plot' is not defined",
     "output_type": "error",
     "traceback": [
      "\u001b[1;31m---------------------------------------------------------------------------\u001b[0m",
      "\u001b[1;31mNameError\u001b[0m                                 Traceback (most recent call last)",
      "Cell \u001b[1;32mIn[47], line 4\u001b[0m\n\u001b[0;32m      2\u001b[0m etiquetas \u001b[38;5;241m=\u001b[39m dataset\u001b[38;5;241m.\u001b[39mfake\u001b[38;5;241m.\u001b[39mvalue_counts()\n\u001b[0;32m      3\u001b[0m etiquetas\u001b[38;5;241m.\u001b[39mplot(kind\u001b[38;5;241m=\u001b[39m\u001b[38;5;124m\"\u001b[39m\u001b[38;5;124mbar\u001b[39m\u001b[38;5;124m\"\u001b[39m,color\u001b[38;5;241m=\u001b[39m[\u001b[38;5;124m\"\u001b[39m\u001b[38;5;124mblue\u001b[39m\u001b[38;5;124m\"\u001b[39m,\u001b[38;5;124m\"\u001b[39m\u001b[38;5;124morange\u001b[39m\u001b[38;5;124m\"\u001b[39m])\n\u001b[1;32m----> 4\u001b[0m plot\u001b[38;5;241m.\u001b[39mtilte(\u001b[38;5;124m\"\u001b[39m\u001b[38;5;124mBar chart\u001b[39m\u001b[38;5;124m\"\u001b[39m)\n\u001b[0;32m      5\u001b[0m plt\u001b[38;5;241m.\u001b[39mshow()\n",
      "\u001b[1;31mNameError\u001b[0m: name 'plot' is not defined"
     ]
    },
    {
     "data": {
      "image/png": "[encoded data removed]",
      "text/plain": [
       "<Figure size 640x480 with 1 Axes>"
      ]
     },
     "metadata": {},
     "output_type": "display_data"
    }
   ],
   "source": [
    "ax, fig = plt.subplots()\n",
    "etiquetas = dataset.fake.value_counts()\n",
    "etiquetas.plot(kind=\"bar\",color=[\"blue\",\"orange\"])\n",
    "plot.tilte(\"Bar chart\")\n",
    "plt.show()"
   ]
  },
  {
   "cell_type": "markdown",
   "id": "b008e0ee-7c68-47dc-a334-c30b42141266",
   "metadata": {},
   "source": [
    "### Transformación\n",
    "\n",
    "Como hemos vista, está dividido en dos pasos Normaliazicón o Preprocesado y Transforamción."
   ]
  },
  {
   "cell_type": "markdown",
   "id": "553b998b-387a-4573-bd68-3167c405bcd5",
   "metadata": {},
   "source": [
    "### Normalización\n",
    "\n",
    "Vamos a proceder a normalizar los datos. Para ello vamos a generar pequeñas funciones que nos permitan:\n",
    "\n",
    "* Eliminar espacios extra.\n",
    "* Transformar a minúsculas.\n",
    "* Tokenizar\n",
    "* Reemplazar contractions,\n",
    "* Lematizar tokens.\n",
    "* Eliminar stopwords\n",
    "* Eliminar sígnos de puntuación"
   ]
  },
  {
   "cell_type": "code",
   "execution_count": 68,
   "id": "0d844215-b726-4548-8554-8083d5554d27",
   "metadata": {
    "tags": []
   },
   "outputs": [],
   "source": [
    "# Eliminamos espacios \n",
    "def eliminar_espacios(text):\n",
    "    return \" \".join(str(text).split())\n",
    "\n",
    "# To lower \n",
    "def texto_to_lower(text):\n",
    "    return str(text).lower()\n",
    "\n",
    "# Tokenizar \n",
    "def tokenization(text):\n",
    "    tokens = word_tokenize(text)\n",
    "    return tokens\n",
    "\n",
    "# Reemplazar contractions usando la librería \"contractions\"\n",
    "def replace_contraction(text):\n",
    "    expanded_words= []\n",
    "    for t in text.split():\n",
    "        expanded_words.append(contractions.fix(t))\n",
    "    expanded_text = \" \".join(expanded_words)\n",
    "    return expanded_text\n",
    "\n",
    "# Quitar stop words \n",
    "from nltk.corpus import stopwords\n",
    "def quitar_stopwords(tokens):\n",
    "    stop_words=set(stopwords.words(\"english\"))\n",
    "    filtered_sentence = [w for w in tokens if not w in stop_words]\n",
    "    return filtered_sentence\n",
    "\n",
    "# Eliminar signos de puntuación \n",
    "def quitar_puntuacion(tokens):\n",
    "    words = [word for word in tokens if word.isalnum()]\n",
    "    return words\n",
    "\n",
    "# Lemmatization\n",
    "import en_core_web_sm\n",
    "nlp = en_core_web_sm.load(disable=['parser', 'ner'])\n",
    "def lematizar(tokens):\n",
    "    sentence = \" \".join(tokens)\n",
    "    mytokens = nlp(sentence)\n",
    "    # Lematizamos los tokens y los convertimos  a minusculas\n",
    "    mytokens = [ word.lemma_ if word.lemma_ != \"-PRON-\" else word.lower_ for word in mytokens ]\n",
    "    # Extraemos el text en una string\n",
    "    return \" \".join(mytokens)\n",
    "\n",
    "import string\n",
    "from nltk.stem import PorterStemmer\n",
    "stemmer = PorterStemmer()\n",
    "def stem(tokens):\n",
    "    tokens = [ stemmer.stem(token) for token in tokens]\n",
    "    return tokens"
   ]
  },
  {
   "cell_type": "markdown",
   "id": "dd0ce3b2-2611-4adb-8652-8505b798b54a",
   "metadata": {},
   "source": [
    "Podríamos generar una función de transformación que aglutinara todas las anteriores y pasársela al siguiente paso (TfidfVectorizer) en el campo analyzer. Para ver el proceso de cada uno de los pasos lo haremos paso a paso:"
   ]
  },
  {
   "cell_type": "code",
   "execution_count": 73,
   "id": "5fb13ca4-2324-4b3b-9981-17fcffd76268",
   "metadata": {
    "tags": []
   },
   "outputs": [
    {
     "data": {
      "application/vnd.jupyter.widget-view+json": {
       "model_id": "31045fef9d9f4dc6ba87d744138de5a8",
       "version_major": 2,
       "version_minor": 0
      },
      "text/plain": [
       "  0%|          | 0/59567 [00:00<?, ?it/s]"
      ]
     },
     "metadata": {},
     "output_type": "display_data"
    },
    {
     "name": "stderr",
     "output_type": "stream",
     "text": [
      "C:\\Users\\pauri\\AppData\\Local\\Temp\\ipykernel_2332\\2628074229.py:2: SettingWithCopyWarning: \n",
      "A value is trying to be set on a copy of a slice from a DataFrame.\n",
      "Try using .loc[row_indexer,col_indexer] = value instead\n",
      "\n",
      "See the caveats in the documentation: https://pandas.pydata.org/pandas-docs/stable/user_guide/indexing.html#returning-a-view-versus-a-copy\n",
      "  dataset[\"normaliza\"] = dataset[\"title\"].progress_apply(lambda x: eliminar_espacios(x))\n"
     ]
    },
    {
     "data": {
      "application/vnd.jupyter.widget-view+json": {
       "model_id": "e9e4457d3a5e40579b22b72a5172b76f",
       "version_major": 2,
       "version_minor": 0
      },
      "text/plain": [
       "  0%|          | 0/59567 [00:00<?, ?it/s]"
      ]
     },
     "metadata": {},
     "output_type": "display_data"
    },
    {
     "name": "stderr",
     "output_type": "stream",
     "text": [
      "C:\\Users\\pauri\\AppData\\Local\\Temp\\ipykernel_2332\\2628074229.py:4: SettingWithCopyWarning: \n",
      "A value is trying to be set on a copy of a slice from a DataFrame.\n",
      "Try using .loc[row_indexer,col_indexer] = value instead\n",
      "\n",
      "See the caveats in the documentation: https://pandas.pydata.org/pandas-docs/stable/user_guide/indexing.html#returning-a-view-versus-a-copy\n",
      "  dataset[\"normaliza\"] = dataset[\"normaliza\"].progress_apply(lambda x: texto_to_lower(x))\n"
     ]
    },
    {
     "data": {
      "application/vnd.jupyter.widget-view+json": {
       "model_id": "1dd72e801c5749559621ffe4b35c2973",
       "version_major": 2,
       "version_minor": 0
      },
      "text/plain": [
       "  0%|          | 0/59567 [00:00<?, ?it/s]"
      ]
     },
     "metadata": {},
     "output_type": "display_data"
    },
    {
     "name": "stderr",
     "output_type": "stream",
     "text": [
      "C:\\Users\\pauri\\AppData\\Local\\Temp\\ipykernel_2332\\2628074229.py:6: SettingWithCopyWarning: \n",
      "A value is trying to be set on a copy of a slice from a DataFrame.\n",
      "Try using .loc[row_indexer,col_indexer] = value instead\n",
      "\n",
      "See the caveats in the documentation: https://pandas.pydata.org/pandas-docs/stable/user_guide/indexing.html#returning-a-view-versus-a-copy\n",
      "  dataset[\"normaliza\"] = dataset[\"normaliza\"].progress_apply(lambda x: replace_contraction(x))\n"
     ]
    },
    {
     "data": {
      "application/vnd.jupyter.widget-view+json": {
       "model_id": "5837ba04e0ff40979a7891fe2b2f7b86",
       "version_major": 2,
       "version_minor": 0
      },
      "text/plain": [
       "  0%|          | 0/59567 [00:00<?, ?it/s]"
      ]
     },
     "metadata": {},
     "output_type": "display_data"
    },
    {
     "name": "stderr",
     "output_type": "stream",
     "text": [
      "C:\\Users\\pauri\\AppData\\Local\\Temp\\ipykernel_2332\\2628074229.py:8: SettingWithCopyWarning: \n",
      "A value is trying to be set on a copy of a slice from a DataFrame.\n",
      "Try using .loc[row_indexer,col_indexer] = value instead\n",
      "\n",
      "See the caveats in the documentation: https://pandas.pydata.org/pandas-docs/stable/user_guide/indexing.html#returning-a-view-versus-a-copy\n",
      "  dataset[\"normaliza\"] = dataset[\"normaliza\"].progress_apply(lambda x: tokenization(x))\n"
     ]
    },
    {
     "data": {
      "application/vnd.jupyter.widget-view+json": {
       "model_id": "18ac80f08c2e4482b55a5f73534404f1",
       "version_major": 2,
       "version_minor": 0
      },
      "text/plain": [
       "  0%|          | 0/59567 [00:00<?, ?it/s]"
      ]
     },
     "metadata": {},
     "output_type": "display_data"
    },
    {
     "name": "stderr",
     "output_type": "stream",
     "text": [
      "C:\\Users\\pauri\\AppData\\Local\\Temp\\ipykernel_2332\\2628074229.py:10: SettingWithCopyWarning: \n",
      "A value is trying to be set on a copy of a slice from a DataFrame.\n",
      "Try using .loc[row_indexer,col_indexer] = value instead\n",
      "\n",
      "See the caveats in the documentation: https://pandas.pydata.org/pandas-docs/stable/user_guide/indexing.html#returning-a-view-versus-a-copy\n",
      "  dataset[\"normaliza\"] = dataset[\"normaliza\"].progress_apply(lambda x: quitar_stopwords(x))\n"
     ]
    },
    {
     "data": {
      "application/vnd.jupyter.widget-view+json": {
       "model_id": "097531e4c3454fe096190976e1e6be8d",
       "version_major": 2,
       "version_minor": 0
      },
      "text/plain": [
       "  0%|          | 0/59567 [00:00<?, ?it/s]"
      ]
     },
     "metadata": {},
     "output_type": "display_data"
    },
    {
     "name": "stderr",
     "output_type": "stream",
     "text": [
      "C:\\Users\\pauri\\AppData\\Local\\Temp\\ipykernel_2332\\2628074229.py:12: SettingWithCopyWarning: \n",
      "A value is trying to be set on a copy of a slice from a DataFrame.\n",
      "Try using .loc[row_indexer,col_indexer] = value instead\n",
      "\n",
      "See the caveats in the documentation: https://pandas.pydata.org/pandas-docs/stable/user_guide/indexing.html#returning-a-view-versus-a-copy\n",
      "  dataset[\"normaliza\"] = dataset[\"normaliza\"].progress_apply(lambda x: quitar_puntuacion(x))\n"
     ]
    },
    {
     "data": {
      "application/vnd.jupyter.widget-view+json": {
       "model_id": "17c4bd18c27c4806bc852b36fbe17e59",
       "version_major": 2,
       "version_minor": 0
      },
      "text/plain": [
       "  0%|          | 0/59567 [00:00<?, ?it/s]"
      ]
     },
     "metadata": {},
     "output_type": "display_data"
    },
    {
     "name": "stderr",
     "output_type": "stream",
     "text": [
      "C:\\Users\\pauri\\AppData\\Local\\Temp\\ipykernel_2332\\2628074229.py:14: SettingWithCopyWarning: \n",
      "A value is trying to be set on a copy of a slice from a DataFrame.\n",
      "Try using .loc[row_indexer,col_indexer] = value instead\n",
      "\n",
      "See the caveats in the documentation: https://pandas.pydata.org/pandas-docs/stable/user_guide/indexing.html#returning-a-view-versus-a-copy\n",
      "  dataset[\"normaliza\"] = dataset[\"normaliza\"].progress_apply(lambda x: stem(x))\n"
     ]
    },
    {
     "data": {
      "application/vnd.jupyter.widget-view+json": {
       "model_id": "1205716a3e704112b58db6d54220d254",
       "version_major": 2,
       "version_minor": 0
      },
      "text/plain": [
       "  0%|          | 0/59567 [00:00<?, ?it/s]"
      ]
     },
     "metadata": {},
     "output_type": "display_data"
    },
    {
     "name": "stderr",
     "output_type": "stream",
     "text": [
      "C:\\Users\\pauri\\AppData\\Local\\Temp\\ipykernel_2332\\2628074229.py:16: SettingWithCopyWarning: \n",
      "A value is trying to be set on a copy of a slice from a DataFrame.\n",
      "Try using .loc[row_indexer,col_indexer] = value instead\n",
      "\n",
      "See the caveats in the documentation: https://pandas.pydata.org/pandas-docs/stable/user_guide/indexing.html#returning-a-view-versus-a-copy\n",
      "  dataset[\"normaliza\"] = dataset[\"normaliza\"].progress_apply(lambda x: lematizar(x))\n"
     ]
    },
    {
     "data": {
      "text/plain": [
       "0                        aba decid commun broadcast licenc\n",
       "1                             act fire wit must awar defam\n",
       "2                      g call infrastructur protect summit\n",
       "3                        air nz staff aust strike pay rise\n",
       "4                   air nz strike affect australian travel\n",
       "                               ...                        \n",
       "59592                               stock crude crumbl low\n",
       "59593    tesla earn smash expect dramat chang report me...\n",
       "59594                         rule ruler world realli work\n",
       "59595            catch tape isi destroy iraqi abram missil\n",
       "59596    obamacar architect admit law work design premi...\n",
       "Name: normaliza, Length: 59567, dtype: object"
      ]
     },
     "execution_count": 73,
     "metadata": {},
     "output_type": "execute_result"
    }
   ],
   "source": [
    "# Espacios\n",
    "dataset[\"normaliza\"] = dataset[\"title\"].progress_apply(lambda x: eliminar_espacios(x))\n",
    "# To Lower\n",
    "dataset[\"normaliza\"] = dataset[\"normaliza\"].progress_apply(lambda x: texto_to_lower(x))\n",
    "# Contraciones\n",
    "dataset[\"normaliza\"] = dataset[\"normaliza\"].progress_apply(lambda x: replace_contraction(x))\n",
    "# Tokenizar\n",
    "dataset[\"normaliza\"] = dataset[\"normaliza\"].progress_apply(lambda x: tokenization(x))\n",
    "# Quitar Stopwords\n",
    "dataset[\"normaliza\"] = dataset[\"normaliza\"].progress_apply(lambda x: quitar_stopwords(x))\n",
    "# Quitar puntuación\n",
    "dataset[\"normaliza\"] = dataset[\"normaliza\"].progress_apply(lambda x: quitar_puntuacion(x))\n",
    "# Stemming\n",
    "dataset[\"normaliza\"] = dataset[\"normaliza\"].progress_apply(lambda x: stem(x))\n",
    "# Mirar todo lo que tarda con lematización (mediante spacy)\n",
    "dataset[\"normaliza\"] = dataset[\"normaliza\"].progress_apply(lambda x: lematizar(x))\n",
    "\n",
    "dataset[\"normaliza\"]\n"
   ]
  },
  {
   "cell_type": "markdown",
   "id": "8058736a-8b55-4460-9d9f-1301664b0d75",
   "metadata": {},
   "source": [
    "Como explicamos, se ha hecho el preprocesado, y antes de introducirlo a TFIDF vamos a generar una frase de cada una de las listas de tokens, para utilizar el propio tokenizados de TFIDF."
   ]
  },
  {
   "cell_type": "code",
   "execution_count": 72,
   "id": "06a400cb-72b6-49f9-b45a-4a21c44c0e66",
   "metadata": {
    "tags": []
   },
   "outputs": [
    {
     "data": {
      "application/vnd.jupyter.widget-view+json": {
       "model_id": "624d9254ebf94da09b3980dc6208db98",
       "version_major": 2,
       "version_minor": 0
      },
      "text/plain": [
       "  0%|          | 0/59567 [00:00<?, ?it/s]"
      ]
     },
     "metadata": {},
     "output_type": "display_data"
    },
    {
     "name": "stderr",
     "output_type": "stream",
     "text": [
      "C:\\Users\\pauri\\AppData\\Local\\Temp\\ipykernel_2332\\3454612539.py:1: SettingWithCopyWarning: \n",
      "A value is trying to be set on a copy of a slice from a DataFrame.\n",
      "Try using .loc[row_indexer,col_indexer] = value instead\n",
      "\n",
      "See the caveats in the documentation: https://pandas.pydata.org/pandas-docs/stable/user_guide/indexing.html#returning-a-view-versus-a-copy\n",
      "  dataset[\"clean_text\"] = dataset[\"normaliza\"].progress_apply(lambda x: \" \".join(x))\n"
     ]
    }
   ],
   "source": [
    "dataset[\"clean_text\"] = dataset[\"normaliza\"].progress_apply(lambda x: \" \".join(x))"
   ]
  },
  {
   "cell_type": "code",
   "execution_count": 75,
   "id": "62e285ab-0279-41c7-bfd4-7be6227a30a3",
   "metadata": {
    "tags": []
   },
   "outputs": [
    {
     "name": "stderr",
     "output_type": "stream",
     "text": [
      "C:\\Users\\pauri\\AppData\\Local\\Temp\\ipykernel_2332\\493501381.py:1: SettingWithCopyWarning: \n",
      "A value is trying to be set on a copy of a slice from a DataFrame.\n",
      "Try using .loc[row_indexer,col_indexer] = value instead\n",
      "\n",
      "See the caveats in the documentation: https://pandas.pydata.org/pandas-docs/stable/user_guide/indexing.html#returning-a-view-versus-a-copy\n",
      "  dataset[\"token_len\"] = dataset[\"normaliza\"].apply(lambda x: len(x))\n",
      "C:\\Users\\pauri\\AppData\\Local\\Temp\\ipykernel_2332\\493501381.py:5: UserWarning: \n",
      "\n",
      "`distplot` is a deprecated function and will be removed in seaborn v0.14.0.\n",
      "\n",
      "Please adapt your code to use either `displot` (a figure-level function with\n",
      "similar flexibility) or `histplot` (an axes-level function for histograms).\n",
      "\n",
      "For a guide to updating your code to use the new functions, please see\n",
      "https://gist.github.com/mwaskom/de44147ed2974457ad6372750bbe5751\n",
      "\n",
      "  plt1 = sns.distplot(dataset[dataset[\"fake\"]==0][\"token_len\"], hist=True, label=\"real\")\n",
      "C:\\Users\\pauri\\AppData\\Local\\Temp\\ipykernel_2332\\493501381.py:6: UserWarning: \n",
      "\n",
      "`distplot` is a deprecated function and will be removed in seaborn v0.14.0.\n",
      "\n",
      "Please adapt your code to use either `displot` (a figure-level function with\n",
      "similar flexibility) or `histplot` (an axes-level function for histograms).\n",
      "\n",
      "For a guide to updating your code to use the new functions, please see\n",
      "https://gist.github.com/mwaskom/de44147ed2974457ad6372750bbe5751\n",
      "\n",
      "  plt2 = sns.distplot(dataset[dataset[\"fake\"]==1][\"token_len\"], hist=True, label=\"fake\")\n"
     ]
    },
    {
     "data": {
      "image/png": "[encoded data removed]",
      "text/plain": [
       "<Figure size 1000x600 with 1 Axes>"
      ]
     },
     "metadata": {},
     "output_type": "display_data"
    }
   ],
   "source": [
    "dataset[\"token_len\"] = dataset[\"normaliza\"].apply(lambda x: len(x))\n",
    "\n",
    "\n",
    "fig = plt.figure(figsize=(10,6))\n",
    "plt1 = sns.distplot(dataset[dataset[\"fake\"]==0][\"token_len\"], hist=True, label=\"real\")\n",
    "plt2 = sns.distplot(dataset[dataset[\"fake\"]==1][\"token_len\"], hist=True, label=\"fake\")\n",
    "fig.legend(labels=['real','fake'])\n",
    "plt.show()"
   ]
  },
  {
   "cell_type": "markdown",
   "id": "c1c32ec2-0bbd-46c5-b3c4-2f3c521d2123",
   "metadata": {},
   "source": [
    "### Vectorización\n",
    "\n",
    "Con todo generado, vamos a extraer las características utilizando TFIDVectorizer:\n",
    "\n",
    "* Queremos utilziar como máximo 15.000 features \n",
    "* unigramas, bigramas y trigramas\n",
    "* Que el sistema no considere los elementos que salgan en menos del 5% de los documentos"
   ]
  },
  {
   "cell_type": "code",
   "execution_count": 79,
   "id": "105adbca-4b12-4ba2-bdca-1cf60994ee2b",
   "metadata": {
    "tags": []
   },
   "outputs": [],
   "source": [
    "vectorizador = TfidfVectorizer(min_df=0.05,ngram_range = (1,2), max_features =300)\n",
    "vector_data=vectorizador.fit_transform(dataset[\"normaliza\"])"
   ]
  },
  {
   "cell_type": "markdown",
   "id": "4835084e-c04f-4f48-be81-3deb93a3eaed",
   "metadata": {},
   "source": [
    "### Entrenaro/validar el clasificador:\n",
    "\n",
    "En primer lugar, dividamos el dataset en Train/Test:"
   ]
  },
  {
   "cell_type": "code",
   "execution_count": 83,
   "id": "8c57d16b-2007-4a0c-aaf0-9d928ebd03a4",
   "metadata": {
    "tags": []
   },
   "outputs": [
    {
     "name": "stdout",
     "output_type": "stream",
     "text": [
      "(44675, 2)\n",
      "(14892, 2)\n"
     ]
    }
   ],
   "source": [
    "X_train,X_test,y_train,y_test = train_test_split(vector_data,dataset.fake,random_state=0)\n",
    "print(X_train.shape)\n",
    "print(X_test.shape)"
   ]
  },
  {
   "cell_type": "markdown",
   "id": "eb223014-64dd-40bd-9103-0d532a7733da",
   "metadata": {},
   "source": [
    "Vamos a entrenar el modelo. Dado que es un problema binario, vamos a utilziar un regresor Logístico para realizar la clasificación. Los parámetros del regresor son \"sovlers\", \"penalty\", y \"c_values\" (el más importante). Vamos a hacer un grid_search para ver cuales son los mejores valores."
   ]
  },
  {
   "cell_type": "code",
   "execution_count": 86,
   "id": "1d9b328e-fcbc-4064-8fc4-d41b18b0b11d",
   "metadata": {
    "tags": []
   },
   "outputs": [],
   "source": [
    "from sklearn.model_selection import KFold\n",
    "from sklearn.model_selection import GridSearchCV\n",
    "\n",
    "# define modelos and parameters\n",
    "model = LogisticRegression()\n",
    "solvers = [\"newton-cg\",\"liblinear\"]\n",
    "penalty = [\"l2\"]\n",
    "c_values =[100,10,1.0,0.1,0.01]"
   ]
  },
  {
   "cell_type": "markdown",
   "id": "628f1eb8-6769-487e-8f5e-a9f521b8bbfd",
   "metadata": {},
   "source": [
    "Vamos a generar un diccionario para la búsqueda Grid y también generaremos el objeto GridSearchCV. Vamos a utilizar una métrica de búsqueda basada en accuracy (por probar)."
   ]
  },
  {
   "cell_type": "code",
   "execution_count": 91,
   "id": "c4920b8d-0939-45eb-b765-4cf1b3119dd0",
   "metadata": {
    "tags": []
   },
   "outputs": [],
   "source": [
    "grid = dict(solver=solvers,penalty=penalty,C=c_values)\n",
    "cv = KFold(n_splits=10,shuffle=True,random_state =1)\n",
    "grid_search = GridSearchCV(estimator=model, param_grid=grid, n_jobs=-1, cv=cv, scoring='accuracy',error_score=0)"
   ]
  },
  {
   "cell_type": "markdown",
   "id": "0d5d30b3-8a2a-4a5d-9a38-a6130c349f19",
   "metadata": {},
   "source": [
    "Entrenamos el modelo y hacemos un print del mejor resultado"
   ]
  },
  {
   "cell_type": "code",
   "execution_count": 94,
   "id": "0ea0d37e-dcc0-475d-939f-c076e2790b16",
   "metadata": {
    "tags": []
   },
   "outputs": [
    {
     "name": "stdout",
     "output_type": "stream",
     "text": [
      "Mejor accuracy: 0.704085 usando los parámetros {'C': 100, 'penalty': 'l2', 'solver': 'newton-cg'}\n"
     ]
    }
   ],
   "source": [
    "grid_result = grid_search.fit(X_train, y_train)\n",
    "# summarize results\n",
    "print(\"Mejor accuracy: %f usando los parámetros %s\" % (grid_result.best_score_, grid_result.best_params_))\n"
   ]
  },
  {
   "cell_type": "markdown",
   "id": "4b6af8d4-e77d-4f5e-8b82-10afcba45f96",
   "metadata": {},
   "source": [
    "Podria interesarnos más otro de los resultados, así que vamos a mostrar todos. Primero asignamos la accuracy media de cada modelo a una variable (means), la std y los parametros y hacemos un bucle for."
   ]
  },
  {
   "cell_type": "code",
   "execution_count": 98,
   "id": "76e0cbcd-1d31-469b-8a5d-c4c11e8ec881",
   "metadata": {
    "tags": []
   },
   "outputs": [
    {
     "name": "stdout",
     "output_type": "stream",
     "text": [
      "0.704085 (0.006972) con parámetros: {'C': 100, 'penalty': 'l2', 'solver': 'newton-cg'}\n",
      "0.704085 (0.006972) con parámetros: {'C': 100, 'penalty': 'l2', 'solver': 'liblinear'}\n",
      "0.704085 (0.006972) con parámetros: {'C': 10, 'penalty': 'l2', 'solver': 'newton-cg'}\n",
      "0.704085 (0.006972) con parámetros: {'C': 10, 'penalty': 'l2', 'solver': 'liblinear'}\n",
      "0.704085 (0.006972) con parámetros: {'C': 1.0, 'penalty': 'l2', 'solver': 'newton-cg'}\n",
      "0.704085 (0.006972) con parámetros: {'C': 1.0, 'penalty': 'l2', 'solver': 'liblinear'}\n",
      "0.704085 (0.006972) con parámetros: {'C': 0.1, 'penalty': 'l2', 'solver': 'newton-cg'}\n",
      "0.704085 (0.006972) con parámetros: {'C': 0.1, 'penalty': 'l2', 'solver': 'liblinear'}\n",
      "0.704085 (0.006972) con parámetros: {'C': 0.01, 'penalty': 'l2', 'solver': 'newton-cg'}\n",
      "0.704085 (0.006972) con parámetros: {'C': 0.01, 'penalty': 'l2', 'solver': 'liblinear'}\n"
     ]
    }
   ],
   "source": [
    "means = grid_result.cv_results_['mean_test_score']\n",
    "stds = grid_result.cv_results_['std_test_score']\n",
    "params = grid_result.cv_results_['params']\n",
    "for mean, stdev, param in zip(means, stds, params):\n",
    "    print(\"%f (%f) con parámetros: %r\" % (mean, stdev, param))"
   ]
  }
 ],
 "metadata": {
  "kernelspec": {
   "display_name": "Python 3 (ipykernel)",
   "language": "python",
   "name": "python3"
  },
  "language_info": {
   "codemirror_mode": {
    "name": "ipython",
    "version": 3
   },
   "file_extension": ".py",
   "mimetype": "text/x-python",
   "name": "python",
   "nbconvert_exporter": "python",
   "pygments_lexer": "ipython3",
   "version": "3.11.7"
  }
 },
 "nbformat": 4,
 "nbformat_minor": 5
}

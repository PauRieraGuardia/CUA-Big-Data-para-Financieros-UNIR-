{
 "cells": [
  {
   "cell_type": "markdown",
   "id": "52f986c1-da5f-4ec1-afac-5222f0c32a53",
   "metadata": {},
   "source": [
    "#### Artificial Neutal Network (ANN)\n",
    "\n",
    "Las redes neuronales artificiales (ANN) intentan replicar el comportamiento de las redes neuronales cerebrales. Su popularidad reciente se debe a la capacidad de procesar redes neuronales muy complejas.\n",
    "\n",
    "Algunas de sus características:\n",
    "\n",
    "* Caputran relaciones no lineales\n",
    "* Formadas por unidades de cálculo sencillas (neuronas/perceptón) interconectadas\n",
    "* Cálulos paralelos\n",
    "* Toleran fallos (evita sobreajuste)\n",
    "* Robustas \n",
    "* Aprenden a partir de ejemplos y son capaces de generalizar\n",
    "* Comportamiento individyal (neuronal) diferente al colectivo (red neuronal)\n",
    "\n",
    "El modelo más sencillo consiste en un perceptrón\n",
    "\n",
    "* Una única capa de neuronas\n",
    "* Cada neurona recibe una variable de entrada\n",
    "* Cada neurona tiene un peso\n",
    "* Se agregan mediante una función de activavión (umbral, sigmoide, tangente hiperbólica)\n",
    "* El modelo estima pesos que permitan separar una clase de la otra\n",
    "\n",
    "Si se añaden diversas capas intermedias (ocultas), se obtiene un perceptrón multicapa\n",
    "\n",
    "Restricciones:\n",
    "\n",
    "* Dificultad en la interpretación\n",
    "* Dificultad en el diseño de la red a priori, necesidad de iptimización de hiperparámetros\n",
    "* Alto coste computacional si la estructura es compleja\n",
    "* Sobreajuste si hay demasiadas coapas\n",
    "* Sensibilidad a escalas/magnitudes, conviene estandarizar las variables\n",
    "\n",
    "Parámetros (Perceprtón multicapa, MLPClassifier):\n",
    "\n",
    "* hidden_layer_sizes: vector con el número de neuronas por capa oculta que se quiere inclui\n",
    "* activation: función de activavión: \"logistic\", \"tanh\",\"relu\""
   ]
  },
  {
   "cell_type": "code",
   "execution_count": 67,
   "id": "d976f7d7-5158-4d4f-b77a-e1088e45c449",
   "metadata": {
    "tags": []
   },
   "outputs": [],
   "source": [
    "# Importa Paquetes \n",
    "import pandas as pd\n",
    "import numpy as np\n",
    "import matplotlib.pyplot as plt\n",
    "%matplotlib inline\n",
    "import seaborn as sns\n",
    "from sklearn.model_selection import train_test_split\n",
    "from sklearn.linear_model import Perceptron \n",
    "from sklearn.neural_network import MLPClassifier\n",
    "from sklearn.metrics import confusion_matrix\n",
    "from sklearn.metrics import classification_report\n",
    "from sklearn.metrics import roc_curve, auc\n",
    "from sklearn.preprocessing import StandardScaler"
   ]
  },
  {
   "cell_type": "code",
   "execution_count": 68,
   "id": "b2d6c34d-f7b4-4c02-8933-505a1ad99dc0",
   "metadata": {
    "tags": []
   },
   "outputs": [
    {
     "data": {
      "text/html": [
       "<div>\n",
       "<style scoped>\n",
       "    .dataframe tbody tr th:only-of-type {\n",
       "        vertical-align: middle;\n",
       "    }\n",
       "\n",
       "    .dataframe tbody tr th {\n",
       "        vertical-align: top;\n",
       "    }\n",
       "\n",
       "    .dataframe thead th {\n",
       "        text-align: right;\n",
       "    }\n",
       "</style>\n",
       "<table border=\"1\" class=\"dataframe\">\n",
       "  <thead>\n",
       "    <tr style=\"text-align: right;\">\n",
       "      <th></th>\n",
       "      <th>PassengerId</th>\n",
       "      <th>Survived</th>\n",
       "      <th>Pclass</th>\n",
       "      <th>Name</th>\n",
       "      <th>Sex</th>\n",
       "      <th>Age</th>\n",
       "      <th>SibSp</th>\n",
       "      <th>Parch</th>\n",
       "      <th>Ticket</th>\n",
       "      <th>Fare</th>\n",
       "      <th>Cabin</th>\n",
       "      <th>Embarked</th>\n",
       "    </tr>\n",
       "  </thead>\n",
       "  <tbody>\n",
       "    <tr>\n",
       "      <th>0</th>\n",
       "      <td>1</td>\n",
       "      <td>0</td>\n",
       "      <td>3</td>\n",
       "      <td>Braund, Mr. Owen Harris</td>\n",
       "      <td>male</td>\n",
       "      <td>22.0</td>\n",
       "      <td>1</td>\n",
       "      <td>0</td>\n",
       "      <td>A/5 21171</td>\n",
       "      <td>7.2500</td>\n",
       "      <td>NaN</td>\n",
       "      <td>S</td>\n",
       "    </tr>\n",
       "    <tr>\n",
       "      <th>1</th>\n",
       "      <td>2</td>\n",
       "      <td>1</td>\n",
       "      <td>1</td>\n",
       "      <td>Cumings, Mrs. John Bradley (Florence Briggs Th...</td>\n",
       "      <td>female</td>\n",
       "      <td>38.0</td>\n",
       "      <td>1</td>\n",
       "      <td>0</td>\n",
       "      <td>PC 17599</td>\n",
       "      <td>71.2833</td>\n",
       "      <td>C85</td>\n",
       "      <td>C</td>\n",
       "    </tr>\n",
       "    <tr>\n",
       "      <th>2</th>\n",
       "      <td>3</td>\n",
       "      <td>1</td>\n",
       "      <td>3</td>\n",
       "      <td>Heikkinen, Miss. Laina</td>\n",
       "      <td>female</td>\n",
       "      <td>26.0</td>\n",
       "      <td>0</td>\n",
       "      <td>0</td>\n",
       "      <td>STON/O2. 3101282</td>\n",
       "      <td>7.9250</td>\n",
       "      <td>NaN</td>\n",
       "      <td>S</td>\n",
       "    </tr>\n",
       "    <tr>\n",
       "      <th>3</th>\n",
       "      <td>4</td>\n",
       "      <td>1</td>\n",
       "      <td>1</td>\n",
       "      <td>Futrelle, Mrs. Jacques Heath (Lily May Peel)</td>\n",
       "      <td>female</td>\n",
       "      <td>35.0</td>\n",
       "      <td>1</td>\n",
       "      <td>0</td>\n",
       "      <td>113803</td>\n",
       "      <td>53.1000</td>\n",
       "      <td>C123</td>\n",
       "      <td>S</td>\n",
       "    </tr>\n",
       "    <tr>\n",
       "      <th>4</th>\n",
       "      <td>5</td>\n",
       "      <td>0</td>\n",
       "      <td>3</td>\n",
       "      <td>Allen, Mr. William Henry</td>\n",
       "      <td>male</td>\n",
       "      <td>35.0</td>\n",
       "      <td>0</td>\n",
       "      <td>0</td>\n",
       "      <td>373450</td>\n",
       "      <td>8.0500</td>\n",
       "      <td>NaN</td>\n",
       "      <td>S</td>\n",
       "    </tr>\n",
       "  </tbody>\n",
       "</table>\n",
       "</div>"
      ],
      "text/plain": [
       "   PassengerId  Survived  Pclass  \\\n",
       "0            1         0       3   \n",
       "1            2         1       1   \n",
       "2            3         1       3   \n",
       "3            4         1       1   \n",
       "4            5         0       3   \n",
       "\n",
       "                                                Name     Sex   Age  SibSp  \\\n",
       "0                            Braund, Mr. Owen Harris    male  22.0      1   \n",
       "1  Cumings, Mrs. John Bradley (Florence Briggs Th...  female  38.0      1   \n",
       "2                             Heikkinen, Miss. Laina  female  26.0      0   \n",
       "3       Futrelle, Mrs. Jacques Heath (Lily May Peel)  female  35.0      1   \n",
       "4                           Allen, Mr. William Henry    male  35.0      0   \n",
       "\n",
       "   Parch            Ticket     Fare Cabin Embarked  \n",
       "0      0         A/5 21171   7.2500   NaN        S  \n",
       "1      0          PC 17599  71.2833   C85        C  \n",
       "2      0  STON/O2. 3101282   7.9250   NaN        S  \n",
       "3      0            113803  53.1000  C123        S  \n",
       "4      0            373450   8.0500   NaN        S  "
      ]
     },
     "execution_count": 68,
     "metadata": {},
     "output_type": "execute_result"
    }
   ],
   "source": [
    "# Carga de datos \n",
    "\n",
    "titanic = pd.read_csv(\"C:/Users/pauri/OneDrive/Escritorio/Python projects/CUA Big Data/titanic (1).csv\")\n",
    "titanic.head(5)"
   ]
  },
  {
   "cell_type": "code",
   "execution_count": 69,
   "id": "aff46bf4-a87c-4488-a9ad-a002a5344cb2",
   "metadata": {
    "tags": []
   },
   "outputs": [],
   "source": [
    "titanic.set_index(\"PassengerId\",inplace=True)"
   ]
  },
  {
   "cell_type": "markdown",
   "id": "93122acc-e29c-4cef-8cd9-d360dc6eb6f5",
   "metadata": {},
   "source": [
    "Estudiamos si existen valores missing"
   ]
  },
  {
   "cell_type": "code",
   "execution_count": 71,
   "id": "8692ba98-0e75-4b95-9ac5-7fa985a7cb48",
   "metadata": {
    "tags": []
   },
   "outputs": [
    {
     "data": {
      "text/plain": [
       "Survived    0.000000\n",
       "Pclass      0.000000\n",
       "Name        0.000000\n",
       "Sex         0.000000\n",
       "Age         0.198653\n",
       "SibSp       0.000000\n",
       "Parch       0.000000\n",
       "Ticket      0.000000\n",
       "Fare        0.000000\n",
       "Cabin       0.771044\n",
       "Embarked    0.002245\n",
       "dtype: float64"
      ]
     },
     "execution_count": 71,
     "metadata": {},
     "output_type": "execute_result"
    }
   ],
   "source": [
    "titanic.isnull().sum()/titanic.shape[0]"
   ]
  },
  {
   "cell_type": "markdown",
   "id": "567a6dc8-5e52-4fce-9143-27902c3b9e5f",
   "metadata": {},
   "source": [
    "El 20% de la vaiable Age y el 77% de la variable Cabin vienen missing. La variable Cabin la eliminaemos, pues hay muchos missing values. Para la variable Embaked los sustituimos por el valor mas repetido."
   ]
  },
  {
   "cell_type": "code",
   "execution_count": 73,
   "id": "4c914ed9-886d-4bfe-aed5-ea9ffd48510f",
   "metadata": {
    "tags": []
   },
   "outputs": [
    {
     "data": {
      "text/plain": [
       "<Axes: title={'center': 'Age'}, xlabel='[Pclass]'>"
      ]
     },
     "execution_count": 73,
     "metadata": {},
     "output_type": "execute_result"
    },
    {
     "data": {
      "text/plain": [
       "<Figure size 2000x1000 with 0 Axes>"
      ]
     },
     "metadata": {},
     "output_type": "display_data"
    },
    {
     "data": {
      "image/png": "[encoded data removed]",
      "text/plain": [
       "<Figure size 640x480 with 1 Axes>"
      ]
     },
     "metadata": {},
     "output_type": "display_data"
    }
   ],
   "source": [
    "# Para la variable Age, sustituiremos los valores missing cruzandola con otra vairable categórica, como PClass\n",
    "\n",
    "plt.figure(figsize=(20,10))\n",
    "titanic[[\"Age\",\"Pclass\"]].boxplot(by=\"Pclass\")"
   ]
  },
  {
   "cell_type": "code",
   "execution_count": 74,
   "id": "8a7ab89b-924a-439e-85fe-56061a3b86c4",
   "metadata": {
    "tags": []
   },
   "outputs": [],
   "source": [
    "# Sustutiumos la variable missing por age 38, 29 o 24 en función de si Pclass es 1, 2 o 3.\n",
    "\n",
    "def imputar_edad (cols):\n",
    "    Age = cols[0]\n",
    "    Pclass = cols[1]\n",
    "    \n",
    "    if pd.isnull(Age):\n",
    "        if Pclass == 1:\n",
    "            return 38\n",
    "        if Pclass == 2:\n",
    "            return 29\n",
    "        else:\n",
    "            return 24\n",
    "    else:\n",
    "        return Age"
   ]
  },
  {
   "cell_type": "code",
   "execution_count": 75,
   "id": "a2d24058-4955-4d87-9e6b-20359c4093f5",
   "metadata": {
    "tags": []
   },
   "outputs": [
    {
     "name": "stderr",
     "output_type": "stream",
     "text": [
      "C:\\Users\\pauri\\AppData\\Local\\Temp\\ipykernel_14296\\715590607.py:4: FutureWarning: Series.__getitem__ treating keys as positions is deprecated. In a future version, integer keys will always be treated as labels (consistent with DataFrame behavior). To access a value by position, use `ser.iloc[pos]`\n",
      "  Age = cols[0]\n",
      "C:\\Users\\pauri\\AppData\\Local\\Temp\\ipykernel_14296\\715590607.py:5: FutureWarning: Series.__getitem__ treating keys as positions is deprecated. In a future version, integer keys will always be treated as labels (consistent with DataFrame behavior). To access a value by position, use `ser.iloc[pos]`\n",
      "  Pclass = cols[1]\n"
     ]
    }
   ],
   "source": [
    "titanic[\"Age\"] = titanic[[\"Age\",\"Pclass\"]].apply(imputar_edad,axis=1)"
   ]
  },
  {
   "cell_type": "code",
   "execution_count": 76,
   "id": "0aeb6810-0f24-44fa-977a-ce7012b14c5b",
   "metadata": {
    "tags": []
   },
   "outputs": [
    {
     "data": {
      "text/plain": [
       "Survived      0\n",
       "Pclass        0\n",
       "Name          0\n",
       "Sex           0\n",
       "Age           0\n",
       "SibSp         0\n",
       "Parch         0\n",
       "Ticket        0\n",
       "Fare          0\n",
       "Cabin       687\n",
       "Embarked      2\n",
       "dtype: int64"
      ]
     },
     "execution_count": 76,
     "metadata": {},
     "output_type": "execute_result"
    }
   ],
   "source": [
    "titanic.isnull().sum()"
   ]
  },
  {
   "cell_type": "code",
   "execution_count": 77,
   "id": "10bd99db-c3bf-4841-a1bc-2f9cce0e0694",
   "metadata": {
    "tags": []
   },
   "outputs": [
    {
     "data": {
      "text/html": [
       "<div>\n",
       "<style scoped>\n",
       "    .dataframe tbody tr th:only-of-type {\n",
       "        vertical-align: middle;\n",
       "    }\n",
       "\n",
       "    .dataframe tbody tr th {\n",
       "        vertical-align: top;\n",
       "    }\n",
       "\n",
       "    .dataframe thead th {\n",
       "        text-align: right;\n",
       "    }\n",
       "</style>\n",
       "<table border=\"1\" class=\"dataframe\">\n",
       "  <thead>\n",
       "    <tr style=\"text-align: right;\">\n",
       "      <th></th>\n",
       "      <th>Survived</th>\n",
       "      <th>Pclass</th>\n",
       "      <th>Name</th>\n",
       "      <th>Sex</th>\n",
       "      <th>Age</th>\n",
       "      <th>SibSp</th>\n",
       "      <th>Parch</th>\n",
       "      <th>Ticket</th>\n",
       "      <th>Fare</th>\n",
       "      <th>Embarked</th>\n",
       "    </tr>\n",
       "    <tr>\n",
       "      <th>PassengerId</th>\n",
       "      <th></th>\n",
       "      <th></th>\n",
       "      <th></th>\n",
       "      <th></th>\n",
       "      <th></th>\n",
       "      <th></th>\n",
       "      <th></th>\n",
       "      <th></th>\n",
       "      <th></th>\n",
       "      <th></th>\n",
       "    </tr>\n",
       "  </thead>\n",
       "  <tbody>\n",
       "    <tr>\n",
       "      <th>1</th>\n",
       "      <td>0</td>\n",
       "      <td>3</td>\n",
       "      <td>Braund, Mr. Owen Harris</td>\n",
       "      <td>male</td>\n",
       "      <td>22.0</td>\n",
       "      <td>1</td>\n",
       "      <td>0</td>\n",
       "      <td>A/5 21171</td>\n",
       "      <td>7.2500</td>\n",
       "      <td>S</td>\n",
       "    </tr>\n",
       "    <tr>\n",
       "      <th>2</th>\n",
       "      <td>1</td>\n",
       "      <td>1</td>\n",
       "      <td>Cumings, Mrs. John Bradley (Florence Briggs Th...</td>\n",
       "      <td>female</td>\n",
       "      <td>38.0</td>\n",
       "      <td>1</td>\n",
       "      <td>0</td>\n",
       "      <td>PC 17599</td>\n",
       "      <td>71.2833</td>\n",
       "      <td>C</td>\n",
       "    </tr>\n",
       "    <tr>\n",
       "      <th>3</th>\n",
       "      <td>1</td>\n",
       "      <td>3</td>\n",
       "      <td>Heikkinen, Miss. Laina</td>\n",
       "      <td>female</td>\n",
       "      <td>26.0</td>\n",
       "      <td>0</td>\n",
       "      <td>0</td>\n",
       "      <td>STON/O2. 3101282</td>\n",
       "      <td>7.9250</td>\n",
       "      <td>S</td>\n",
       "    </tr>\n",
       "    <tr>\n",
       "      <th>4</th>\n",
       "      <td>1</td>\n",
       "      <td>1</td>\n",
       "      <td>Futrelle, Mrs. Jacques Heath (Lily May Peel)</td>\n",
       "      <td>female</td>\n",
       "      <td>35.0</td>\n",
       "      <td>1</td>\n",
       "      <td>0</td>\n",
       "      <td>113803</td>\n",
       "      <td>53.1000</td>\n",
       "      <td>S</td>\n",
       "    </tr>\n",
       "    <tr>\n",
       "      <th>5</th>\n",
       "      <td>0</td>\n",
       "      <td>3</td>\n",
       "      <td>Allen, Mr. William Henry</td>\n",
       "      <td>male</td>\n",
       "      <td>35.0</td>\n",
       "      <td>0</td>\n",
       "      <td>0</td>\n",
       "      <td>373450</td>\n",
       "      <td>8.0500</td>\n",
       "      <td>S</td>\n",
       "    </tr>\n",
       "  </tbody>\n",
       "</table>\n",
       "</div>"
      ],
      "text/plain": [
       "             Survived  Pclass  \\\n",
       "PassengerId                     \n",
       "1                   0       3   \n",
       "2                   1       1   \n",
       "3                   1       3   \n",
       "4                   1       1   \n",
       "5                   0       3   \n",
       "\n",
       "                                                          Name     Sex   Age  \\\n",
       "PassengerId                                                                    \n",
       "1                                      Braund, Mr. Owen Harris    male  22.0   \n",
       "2            Cumings, Mrs. John Bradley (Florence Briggs Th...  female  38.0   \n",
       "3                                       Heikkinen, Miss. Laina  female  26.0   \n",
       "4                 Futrelle, Mrs. Jacques Heath (Lily May Peel)  female  35.0   \n",
       "5                                     Allen, Mr. William Henry    male  35.0   \n",
       "\n",
       "             SibSp  Parch            Ticket     Fare Embarked  \n",
       "PassengerId                                                    \n",
       "1                1      0         A/5 21171   7.2500        S  \n",
       "2                1      0          PC 17599  71.2833        C  \n",
       "3                0      0  STON/O2. 3101282   7.9250        S  \n",
       "4                1      0            113803  53.1000        S  \n",
       "5                0      0            373450   8.0500        S  "
      ]
     },
     "execution_count": 77,
     "metadata": {},
     "output_type": "execute_result"
    }
   ],
   "source": [
    "# Eliminamos vaiable cabin y los missing values de Embarked\n",
    "\n",
    "titanic.drop(\"Cabin\",axis=1,inplace=True)\n",
    "titanic.dropna(inplace=True)\n",
    "titanic.head(5)"
   ]
  },
  {
   "cell_type": "code",
   "execution_count": 93,
   "id": "9a461746-a81b-476b-afdf-e63045dc3548",
   "metadata": {
    "tags": []
   },
   "outputs": [],
   "source": [
    "# Transformación variables categóricas\n",
    "\n",
    "sex = pd.get_dummies(titanic[\"Sex\"],drop_first=True).astype(int)\n",
    "embarked = pd.get_dummies(titanic[\"Embarked\"],drop_first=True).astype(int)"
   ]
  },
  {
   "cell_type": "code",
   "execution_count": 101,
   "id": "12973c47-b240-4fb0-974a-71785d5d4b6e",
   "metadata": {
    "tags": []
   },
   "outputs": [
    {
     "data": {
      "text/html": [
       "<div>\n",
       "<style scoped>\n",
       "    .dataframe tbody tr th:only-of-type {\n",
       "        vertical-align: middle;\n",
       "    }\n",
       "\n",
       "    .dataframe tbody tr th {\n",
       "        vertical-align: top;\n",
       "    }\n",
       "\n",
       "    .dataframe thead th {\n",
       "        text-align: right;\n",
       "    }\n",
       "</style>\n",
       "<table border=\"1\" class=\"dataframe\">\n",
       "  <thead>\n",
       "    <tr style=\"text-align: right;\">\n",
       "      <th></th>\n",
       "      <th>Survived</th>\n",
       "      <th>Pclass</th>\n",
       "      <th>Age</th>\n",
       "      <th>SibSp</th>\n",
       "      <th>Parch</th>\n",
       "      <th>Fare</th>\n",
       "      <th>male</th>\n",
       "      <th>Q</th>\n",
       "      <th>S</th>\n",
       "    </tr>\n",
       "    <tr>\n",
       "      <th>PassengerId</th>\n",
       "      <th></th>\n",
       "      <th></th>\n",
       "      <th></th>\n",
       "      <th></th>\n",
       "      <th></th>\n",
       "      <th></th>\n",
       "      <th></th>\n",
       "      <th></th>\n",
       "      <th></th>\n",
       "    </tr>\n",
       "  </thead>\n",
       "  <tbody>\n",
       "    <tr>\n",
       "      <th>1</th>\n",
       "      <td>0</td>\n",
       "      <td>3</td>\n",
       "      <td>22.0</td>\n",
       "      <td>1</td>\n",
       "      <td>0</td>\n",
       "      <td>7.2500</td>\n",
       "      <td>1</td>\n",
       "      <td>0</td>\n",
       "      <td>1</td>\n",
       "    </tr>\n",
       "    <tr>\n",
       "      <th>2</th>\n",
       "      <td>1</td>\n",
       "      <td>1</td>\n",
       "      <td>38.0</td>\n",
       "      <td>1</td>\n",
       "      <td>0</td>\n",
       "      <td>71.2833</td>\n",
       "      <td>0</td>\n",
       "      <td>0</td>\n",
       "      <td>0</td>\n",
       "    </tr>\n",
       "    <tr>\n",
       "      <th>3</th>\n",
       "      <td>1</td>\n",
       "      <td>3</td>\n",
       "      <td>26.0</td>\n",
       "      <td>0</td>\n",
       "      <td>0</td>\n",
       "      <td>7.9250</td>\n",
       "      <td>0</td>\n",
       "      <td>0</td>\n",
       "      <td>1</td>\n",
       "    </tr>\n",
       "    <tr>\n",
       "      <th>4</th>\n",
       "      <td>1</td>\n",
       "      <td>1</td>\n",
       "      <td>35.0</td>\n",
       "      <td>1</td>\n",
       "      <td>0</td>\n",
       "      <td>53.1000</td>\n",
       "      <td>0</td>\n",
       "      <td>0</td>\n",
       "      <td>1</td>\n",
       "    </tr>\n",
       "    <tr>\n",
       "      <th>5</th>\n",
       "      <td>0</td>\n",
       "      <td>3</td>\n",
       "      <td>35.0</td>\n",
       "      <td>0</td>\n",
       "      <td>0</td>\n",
       "      <td>8.0500</td>\n",
       "      <td>1</td>\n",
       "      <td>0</td>\n",
       "      <td>1</td>\n",
       "    </tr>\n",
       "  </tbody>\n",
       "</table>\n",
       "</div>"
      ],
      "text/plain": [
       "             Survived  Pclass   Age  SibSp  Parch     Fare  male  Q  S\n",
       "PassengerId                                                           \n",
       "1                   0       3  22.0      1      0   7.2500     1  0  1\n",
       "2                   1       1  38.0      1      0  71.2833     0  0  0\n",
       "3                   1       3  26.0      0      0   7.9250     0  0  1\n",
       "4                   1       1  35.0      1      0  53.1000     0  0  1\n",
       "5                   0       3  35.0      0      0   8.0500     1  0  1"
      ]
     },
     "execution_count": 101,
     "metadata": {},
     "output_type": "execute_result"
    }
   ],
   "source": [
    "# Eliminamos la variable Ticket por ser identificador del pasaejro y la variable nombre\n",
    "\n",
    "titanic.drop([\"Sex\",\"Embarked\",\"Name\",\"Ticket\"],axis=1,inplace=True)\n",
    "titanic = pd.concat([titanic,sex,embarked],axis=1)\n",
    "titanic.head()"
   ]
  },
  {
   "cell_type": "markdown",
   "id": "1a85ebb6-5687-4ba0-a111-5d2da2c899ea",
   "metadata": {},
   "source": [
    "#### Preparación entrada modelos"
   ]
  },
  {
   "cell_type": "code",
   "execution_count": 104,
   "id": "dd854339-0c10-4792-a62f-6679dda9bd4f",
   "metadata": {
    "tags": []
   },
   "outputs": [],
   "source": [
    "X = titanic.drop(\"Survived\",axis=1)\n",
    "y = titanic[\"Survived\"]"
   ]
  },
  {
   "cell_type": "code",
   "execution_count": 106,
   "id": "8ee624e9-9ce3-42d5-964b-77de170124ac",
   "metadata": {
    "tags": []
   },
   "outputs": [],
   "source": [
    "X_train, X_test, y_train, y_test = train_test_split(X,y,test_size=0.3,random_state=123456789)"
   ]
  },
  {
   "cell_type": "markdown",
   "id": "cfa5018a-9f0c-496c-9ae3-fc77f901ead2",
   "metadata": {},
   "source": [
    "#### Estimación de la red neuronal (MLP)"
   ]
  },
  {
   "cell_type": "code",
   "execution_count": 109,
   "id": "dd28e2f3-6085-4ff5-9189-34823b388a7b",
   "metadata": {
    "tags": []
   },
   "outputs": [
    {
     "name": "stderr",
     "output_type": "stream",
     "text": [
      "C:\\Users\\pauri\\anaconda3\\Lib\\site-packages\\sklearn\\neural_network\\_multilayer_perceptron.py:686: ConvergenceWarning: Stochastic Optimizer: Maximum iterations (200) reached and the optimization hasn't converged yet.\n",
      "  warnings.warn(\n"
     ]
    },
    {
     "data": {
      "text/html": [
       "<style>#sk-container-id-1 {color: black;background-color: white;}#sk-container-id-1 pre{padding: 0;}#sk-container-id-1 div.sk-toggleable {background-color: white;}#sk-container-id-1 label.sk-toggleable__label {cursor: pointer;display: block;width: 100%;margin-bottom: 0;padding: 0.3em;box-sizing: border-box;text-align: center;}#sk-container-id-1 label.sk-toggleable__label-arrow:before {content: \"▸\";float: left;margin-right: 0.25em;color: #696969;}#sk-container-id-1 label.sk-toggleable__label-arrow:hover:before {color: black;}#sk-container-id-1 div.sk-estimator:hover label.sk-toggleable__label-arrow:before {color: black;}#sk-container-id-1 div.sk-toggleable__content {max-height: 0;max-width: 0;overflow: hidden;text-align: left;background-color: #f0f8ff;}#sk-container-id-1 div.sk-toggleable__content pre {margin: 0.2em;color: black;border-radius: 0.25em;background-color: #f0f8ff;}#sk-container-id-1 input.sk-toggleable__control:checked~div.sk-toggleable__content {max-height: 200px;max-width: 100%;overflow: auto;}#sk-container-id-1 input.sk-toggleable__control:checked~label.sk-toggleable__label-arrow:before {content: \"▾\";}#sk-container-id-1 div.sk-estimator input.sk-toggleable__control:checked~label.sk-toggleable__label {background-color: #d4ebff;}#sk-container-id-1 div.sk-label input.sk-toggleable__control:checked~label.sk-toggleable__label {background-color: #d4ebff;}#sk-container-id-1 input.sk-hidden--visually {border: 0;clip: rect(1px 1px 1px 1px);clip: rect(1px, 1px, 1px, 1px);height: 1px;margin: -1px;overflow: hidden;padding: 0;position: absolute;width: 1px;}#sk-container-id-1 div.sk-estimator {font-family: monospace;background-color: #f0f8ff;border: 1px dotted black;border-radius: 0.25em;box-sizing: border-box;margin-bottom: 0.5em;}#sk-container-id-1 div.sk-estimator:hover {background-color: #d4ebff;}#sk-container-id-1 div.sk-parallel-item::after {content: \"\";width: 100%;border-bottom: 1px solid gray;flex-grow: 1;}#sk-container-id-1 div.sk-label:hover label.sk-toggleable__label {background-color: #d4ebff;}#sk-container-id-1 div.sk-serial::before {content: \"\";position: absolute;border-left: 1px solid gray;box-sizing: border-box;top: 0;bottom: 0;left: 50%;z-index: 0;}#sk-container-id-1 div.sk-serial {display: flex;flex-direction: column;align-items: center;background-color: white;padding-right: 0.2em;padding-left: 0.2em;position: relative;}#sk-container-id-1 div.sk-item {position: relative;z-index: 1;}#sk-container-id-1 div.sk-parallel {display: flex;align-items: stretch;justify-content: center;background-color: white;position: relative;}#sk-container-id-1 div.sk-item::before, #sk-container-id-1 div.sk-parallel-item::before {content: \"\";position: absolute;border-left: 1px solid gray;box-sizing: border-box;top: 0;bottom: 0;left: 50%;z-index: -1;}#sk-container-id-1 div.sk-parallel-item {display: flex;flex-direction: column;z-index: 1;position: relative;background-color: white;}#sk-container-id-1 div.sk-parallel-item:first-child::after {align-self: flex-end;width: 50%;}#sk-container-id-1 div.sk-parallel-item:last-child::after {align-self: flex-start;width: 50%;}#sk-container-id-1 div.sk-parallel-item:only-child::after {width: 0;}#sk-container-id-1 div.sk-dashed-wrapped {border: 1px dashed gray;margin: 0 0.4em 0.5em 0.4em;box-sizing: border-box;padding-bottom: 0.4em;background-color: white;}#sk-container-id-1 div.sk-label label {font-family: monospace;font-weight: bold;display: inline-block;line-height: 1.2em;}#sk-container-id-1 div.sk-label-container {text-align: center;}#sk-container-id-1 div.sk-container {/* jupyter's `normalize.less` sets `[hidden] { display: none; }` but bootstrap.min.css set `[hidden] { display: none !important; }` so we also need the `!important` here to be able to override the default hidden behavior on the sphinx rendered scikit-learn.org. See: https://github.com/scikit-learn/scikit-learn/issues/21755 */display: inline-block !important;position: relative;}#sk-container-id-1 div.sk-text-repr-fallback {display: none;}</style><div id=\"sk-container-id-1\" class=\"sk-top-container\"><div class=\"sk-text-repr-fallback\"><pre>MLPClassifier(activation=&#x27;tanh&#x27;, hidden_layer_sizes=(5, 2), random_state=1)</pre><b>In a Jupyter environment, please rerun this cell to show the HTML representation or trust the notebook. <br />On GitHub, the HTML representation is unable to render, please try loading this page with nbviewer.org.</b></div><div class=\"sk-container\" hidden><div class=\"sk-item\"><div class=\"sk-estimator sk-toggleable\"><input class=\"sk-toggleable__control sk-hidden--visually\" id=\"sk-estimator-id-1\" type=\"checkbox\" checked><label for=\"sk-estimator-id-1\" class=\"sk-toggleable__label sk-toggleable__label-arrow\">MLPClassifier</label><div class=\"sk-toggleable__content\"><pre>MLPClassifier(activation=&#x27;tanh&#x27;, hidden_layer_sizes=(5, 2), random_state=1)</pre></div></div></div></div></div>"
      ],
      "text/plain": [
       "MLPClassifier(activation='tanh', hidden_layer_sizes=(5, 2), random_state=1)"
      ]
     },
     "execution_count": 109,
     "metadata": {},
     "output_type": "execute_result"
    }
   ],
   "source": [
    "mlp = MLPClassifier (hidden_layer_sizes=(5,2), activation = \"tanh\", random_state=1)\n",
    "\n",
    "mlp.fit(X_train,y_train)"
   ]
  },
  {
   "cell_type": "markdown",
   "id": "51ea3e2b-61b8-4cf7-9ac3-b6d88714c3aa",
   "metadata": {},
   "source": [
    "#### Clasificación con el MLP\n",
    "\n",
    "Podemos obtener las predicciones como probabilidades (gracias al parámetro probability = True) o clases estimadas."
   ]
  },
  {
   "cell_type": "code",
   "execution_count": 114,
   "id": "24c579e8-652c-4e7e-86f1-70d90969615b",
   "metadata": {
    "tags": []
   },
   "outputs": [
    {
     "data": {
      "text/plain": [
       "array([1, 0, 1, 0, 0, 0, 1, 0, 0, 0, 0, 1, 0, 0, 0, 0, 1, 0, 1, 1, 0, 0,\n",
       "       1, 1, 1, 0, 1, 0, 0, 1, 0, 0, 0, 0, 0, 0, 0, 0, 0, 0, 0, 0, 0, 0,\n",
       "       0, 0, 0, 0, 0, 0, 0, 0, 0, 0, 0, 1, 0, 0, 0, 0, 0, 0, 1, 0, 1, 0,\n",
       "       0, 0, 0, 0, 0, 0, 0, 1, 1, 0, 0, 1, 0, 0, 0, 0, 0, 0, 1, 1, 0, 0,\n",
       "       1, 0, 0, 0, 0, 0, 0, 0, 1, 1, 0, 0, 0, 0, 0, 0, 1, 0, 0, 0, 1, 0,\n",
       "       1, 0, 0, 0, 1, 1, 0, 1, 0, 0, 0, 1, 1, 1, 0, 0, 0, 0, 1, 1, 0, 0,\n",
       "       0, 1, 1, 0, 0, 0, 1, 0, 1, 0, 1, 0, 0, 1, 0, 0, 0, 0, 0, 1, 0, 0,\n",
       "       0, 0, 0, 0, 0, 0, 0, 1, 0, 0, 0, 0, 0, 1, 0, 0, 1, 1, 0, 0, 0, 0,\n",
       "       0, 0, 0, 1, 1, 0, 0, 0, 1, 0, 0, 0, 0, 0, 1, 0, 0, 1, 0, 1, 0, 1,\n",
       "       0, 0, 1, 0, 1, 0, 1, 1, 0, 0, 1, 1, 0, 0, 1, 0, 0, 0, 1, 0, 0, 0,\n",
       "       1, 0, 0, 1, 0, 1, 0, 0, 0, 1, 1, 1, 0, 0, 0, 0, 0, 0, 0, 1, 1, 1,\n",
       "       1, 1, 0, 0, 1, 0, 1, 1, 1, 0, 0, 1, 0, 0, 0, 0, 0, 0, 0, 0, 0, 0,\n",
       "       0, 0, 0], dtype=int64)"
      ]
     },
     "execution_count": 114,
     "metadata": {},
     "output_type": "execute_result"
    }
   ],
   "source": [
    "test_predicción_1= mlp.predict(X_test)\n",
    "test_predicción_1"
   ]
  },
  {
   "cell_type": "code",
   "execution_count": 118,
   "id": "16cc83f4-0b7e-44a1-b763-5a8c107893c8",
   "metadata": {
    "tags": []
   },
   "outputs": [
    {
     "data": {
      "text/plain": [
       "array([[0.25745034, 0.74254966],\n",
       "       [0.75293005, 0.24706995],\n",
       "       [0.40917704, 0.59082296],\n",
       "       [0.75723533, 0.24276467],\n",
       "       [0.58787934, 0.41212066],\n",
       "       [0.76288428, 0.23711572],\n",
       "       [0.4546964 , 0.5453036 ],\n",
       "       [0.63446578, 0.36553422],\n",
       "       [0.76538881, 0.23461119],\n",
       "       [0.6990624 , 0.3009376 ],\n",
       "       [0.77142345, 0.22857655],\n",
       "       [0.28657102, 0.71342898],\n",
       "       [0.54855482, 0.45144518],\n",
       "       [0.71406268, 0.28593732],\n",
       "       [0.76257264, 0.23742736],\n",
       "       [0.74181078, 0.25818922],\n",
       "       [0.44427557, 0.55572443],\n",
       "       [0.55057667, 0.44942333],\n",
       "       [0.30367628, 0.69632372],\n",
       "       [0.39516947, 0.60483053],\n",
       "       [0.75857368, 0.24142632],\n",
       "       [0.56174483, 0.43825517],\n",
       "       [0.27712395, 0.72287605],\n",
       "       [0.26666588, 0.73333412],\n",
       "       [0.21569162, 0.78430838],\n",
       "       [0.76116041, 0.23883959],\n",
       "       [0.22157614, 0.77842386],\n",
       "       [0.76345019, 0.23654981],\n",
       "       [0.75062033, 0.24937967],\n",
       "       [0.26643568, 0.73356432],\n",
       "       [0.57457066, 0.42542934],\n",
       "       [0.67280533, 0.32719467],\n",
       "       [0.67058505, 0.32941495],\n",
       "       [0.77400172, 0.22599828],\n",
       "       [0.76549703, 0.23450297],\n",
       "       [0.77270001, 0.22729999],\n",
       "       [0.69278514, 0.30721486],\n",
       "       [0.77142275, 0.22857725],\n",
       "       [0.76396097, 0.23603903],\n",
       "       [0.56872958, 0.43127042],\n",
       "       [0.68702728, 0.31297272],\n",
       "       [0.76723211, 0.23276789],\n",
       "       [0.60573294, 0.39426706],\n",
       "       [0.51010032, 0.48989968],\n",
       "       [0.68505899, 0.31494101],\n",
       "       [0.76366401, 0.23633599],\n",
       "       [0.76054019, 0.23945981],\n",
       "       [0.58911809, 0.41088191],\n",
       "       [0.52178118, 0.47821882],\n",
       "       [0.7525909 , 0.2474091 ],\n",
       "       [0.5585823 , 0.4414177 ],\n",
       "       [0.74232916, 0.25767084],\n",
       "       [0.5825038 , 0.4174962 ],\n",
       "       [0.67311535, 0.32688465],\n",
       "       [0.67137481, 0.32862519],\n",
       "       [0.27636722, 0.72363278],\n",
       "       [0.75107745, 0.24892255],\n",
       "       [0.75106768, 0.24893232],\n",
       "       [0.74923335, 0.25076665],\n",
       "       [0.58718627, 0.41281373],\n",
       "       [0.77142345, 0.22857655],\n",
       "       [0.74461022, 0.25538978],\n",
       "       [0.29389395, 0.70610605],\n",
       "       [0.72411232, 0.27588768],\n",
       "       [0.3428765 , 0.6571235 ],\n",
       "       [0.76427566, 0.23572434],\n",
       "       [0.54017281, 0.45982719],\n",
       "       [0.75442064, 0.24557936],\n",
       "       [0.75450579, 0.24549421],\n",
       "       [0.76440862, 0.23559138],\n",
       "       [0.64990531, 0.35009469],\n",
       "       [0.76488595, 0.23511405],\n",
       "       [0.58270467, 0.41729533],\n",
       "       [0.26066512, 0.73933488],\n",
       "       [0.42285465, 0.57714535],\n",
       "       [0.76888123, 0.23111877],\n",
       "       [0.72282792, 0.27717208],\n",
       "       [0.484634  , 0.515366  ],\n",
       "       [0.73974637, 0.26025363],\n",
       "       [0.76341735, 0.23658265],\n",
       "       [0.75318225, 0.24681775],\n",
       "       [0.71366617, 0.28633383],\n",
       "       [0.63712162, 0.36287838],\n",
       "       [0.71366617, 0.28633383],\n",
       "       [0.33798514, 0.66201486],\n",
       "       [0.21766746, 0.78233254],\n",
       "       [0.72869252, 0.27130748],\n",
       "       [0.65596322, 0.34403678],\n",
       "       [0.27680321, 0.72319679],\n",
       "       [0.75333762, 0.24666238],\n",
       "       [0.51624046, 0.48375954],\n",
       "       [0.70938994, 0.29061006],\n",
       "       [0.74575758, 0.25424242],\n",
       "       [0.75332822, 0.24667178],\n",
       "       [0.77077412, 0.22922588],\n",
       "       [0.63102603, 0.36897397],\n",
       "       [0.23881634, 0.76118366],\n",
       "       [0.21140164, 0.78859836],\n",
       "       [0.58207936, 0.41792064],\n",
       "       [0.74875959, 0.25124041],\n",
       "       [0.67680133, 0.32319867],\n",
       "       [0.77257125, 0.22742875],\n",
       "       [0.75859628, 0.24140372],\n",
       "       [0.64353227, 0.35646773],\n",
       "       [0.21244204, 0.78755796],\n",
       "       [0.76325759, 0.23674241],\n",
       "       [0.7581354 , 0.2418646 ],\n",
       "       [0.76339025, 0.23660975],\n",
       "       [0.24741511, 0.75258489],\n",
       "       [0.76483715, 0.23516285],\n",
       "       [0.46838105, 0.53161895],\n",
       "       [0.74503161, 0.25496839],\n",
       "       [0.5899447 , 0.4100553 ],\n",
       "       [0.52024973, 0.47975027],\n",
       "       [0.47519814, 0.52480186],\n",
       "       [0.27161665, 0.72838335],\n",
       "       [0.75858699, 0.24141301],\n",
       "       [0.21862968, 0.78137032],\n",
       "       [0.76874806, 0.23125194],\n",
       "       [0.58249666, 0.41750334],\n",
       "       [0.58243319, 0.41756681],\n",
       "       [0.22929199, 0.77070801],\n",
       "       [0.20623896, 0.79376104],\n",
       "       [0.32150272, 0.67849728],\n",
       "       [0.64036053, 0.35963947],\n",
       "       [0.52756583, 0.47243417],\n",
       "       [0.71371319, 0.28628681],\n",
       "       [0.67336775, 0.32663225],\n",
       "       [0.27964894, 0.72035106],\n",
       "       [0.32172757, 0.67827243],\n",
       "       [0.66379007, 0.33620993],\n",
       "       [0.58925264, 0.41074736],\n",
       "       [0.71366617, 0.28633383],\n",
       "       [0.20027286, 0.79972714],\n",
       "       [0.27544915, 0.72455085],\n",
       "       [0.74896212, 0.25103788],\n",
       "       [0.68423521, 0.31576479],\n",
       "       [0.76051108, 0.23948892],\n",
       "       [0.49258481, 0.50741519],\n",
       "       [0.67330569, 0.32669431],\n",
       "       [0.34986935, 0.65013065],\n",
       "       [0.75935979, 0.24064021],\n",
       "       [0.22132714, 0.77867286],\n",
       "       [0.73483207, 0.26516793],\n",
       "       [0.63625929, 0.36374071],\n",
       "       [0.2145895 , 0.7854105 ],\n",
       "       [0.58257537, 0.41742463],\n",
       "       [0.69618704, 0.30381296],\n",
       "       [0.75838455, 0.24161545],\n",
       "       [0.5825038 , 0.4174962 ],\n",
       "       [0.55528338, 0.44471662],\n",
       "       [0.2327361 , 0.7672639 ],\n",
       "       [0.76884757, 0.23115243],\n",
       "       [0.64388032, 0.35611968],\n",
       "       [0.76345019, 0.23654981],\n",
       "       [0.75249743, 0.24750257],\n",
       "       [0.75922185, 0.24077815],\n",
       "       [0.76485532, 0.23514468],\n",
       "       [0.6846015 , 0.3153985 ],\n",
       "       [0.76232985, 0.23767015],\n",
       "       [0.763395  , 0.236605  ],\n",
       "       [0.43059243, 0.56940757],\n",
       "       [0.77161264, 0.22838736],\n",
       "       [0.77128498, 0.22871502],\n",
       "       [0.70712627, 0.29287373],\n",
       "       [0.52178118, 0.47821882],\n",
       "       [0.73306468, 0.26693532],\n",
       "       [0.21653195, 0.78346805],\n",
       "       [0.76154245, 0.23845755],\n",
       "       [0.58254818, 0.41745182],\n",
       "       [0.29944353, 0.70055647],\n",
       "       [0.34105081, 0.65894919],\n",
       "       [0.55459107, 0.44540893],\n",
       "       [0.71760372, 0.28239628],\n",
       "       [0.6465967 , 0.3534033 ],\n",
       "       [0.7028416 , 0.2971584 ],\n",
       "       [0.76345019, 0.23654981],\n",
       "       [0.70538482, 0.29461518],\n",
       "       [0.73483207, 0.26516793],\n",
       "       [0.27096133, 0.72903867],\n",
       "       [0.2624995 , 0.7375005 ],\n",
       "       [0.58081085, 0.41918915],\n",
       "       [0.72465375, 0.27534625],\n",
       "       [0.75106768, 0.24893232],\n",
       "       [0.31052687, 0.68947313],\n",
       "       [0.61858856, 0.38141144],\n",
       "       [0.64713322, 0.35286678],\n",
       "       [0.71366617, 0.28633383],\n",
       "       [0.76234141, 0.23765859],\n",
       "       [0.7652137 , 0.2347863 ],\n",
       "       [0.38302131, 0.61697869],\n",
       "       [0.73483207, 0.26516793],\n",
       "       [0.5825038 , 0.4174962 ],\n",
       "       [0.2199059 , 0.7800941 ],\n",
       "       [0.7555559 , 0.2444441 ],\n",
       "       [0.21065052, 0.78934948],\n",
       "       [0.64601977, 0.35398023],\n",
       "       [0.27177875, 0.72822125],\n",
       "       [0.66369845, 0.33630155],\n",
       "       [0.59795494, 0.40204506],\n",
       "       [0.39578854, 0.60421146],\n",
       "       [0.52064553, 0.47935447],\n",
       "       [0.33634608, 0.66365392],\n",
       "       [0.52654989, 0.47345011],\n",
       "       [0.28942199, 0.71057801],\n",
       "       [0.31529918, 0.68470082],\n",
       "       [0.65502783, 0.34497217],\n",
       "       [0.6869027 , 0.3130973 ],\n",
       "       [0.32971317, 0.67028683],\n",
       "       [0.46932768, 0.53067232],\n",
       "       [0.74196243, 0.25803757],\n",
       "       [0.67150831, 0.32849169],\n",
       "       [0.26308346, 0.73691654],\n",
       "       [0.6823794 , 0.3176206 ],\n",
       "       [0.75334374, 0.24665626],\n",
       "       [0.76094872, 0.23905128],\n",
       "       [0.20709738, 0.79290262],\n",
       "       [0.58226647, 0.41773353],\n",
       "       [0.76523381, 0.23476619],\n",
       "       [0.76341735, 0.23658265],\n",
       "       [0.24461715, 0.75538285],\n",
       "       [0.54760591, 0.45239409],\n",
       "       [0.77877895, 0.22122105],\n",
       "       [0.20751652, 0.79248348],\n",
       "       [0.71365119, 0.28634881],\n",
       "       [0.22767365, 0.77232635],\n",
       "       [0.76523194, 0.23476806],\n",
       "       [0.73022337, 0.26977663],\n",
       "       [0.51634101, 0.48365899],\n",
       "       [0.32284553, 0.67715447],\n",
       "       [0.30907267, 0.69092733],\n",
       "       [0.27897217, 0.72102783],\n",
       "       [0.5170834 , 0.4829166 ],\n",
       "       [0.59795494, 0.40204506],\n",
       "       [0.76345019, 0.23654981],\n",
       "       [0.52421212, 0.47578788],\n",
       "       [0.7655326 , 0.2344674 ],\n",
       "       [0.77142345, 0.22857655],\n",
       "       [0.76271553, 0.23728447],\n",
       "       [0.34448444, 0.65551556],\n",
       "       [0.46668369, 0.53331631],\n",
       "       [0.22090965, 0.77909035],\n",
       "       [0.44084194, 0.55915806],\n",
       "       [0.41228916, 0.58771084],\n",
       "       [0.76450923, 0.23549077],\n",
       "       [0.74730649, 0.25269351],\n",
       "       [0.33718941, 0.66281059],\n",
       "       [0.5820072 , 0.4179928 ],\n",
       "       [0.2762582 , 0.7237418 ],\n",
       "       [0.22349828, 0.77650172],\n",
       "       [0.37118071, 0.62881929],\n",
       "       [0.75311332, 0.24688668],\n",
       "       [0.76341735, 0.23658265],\n",
       "       [0.30852291, 0.69147709],\n",
       "       [0.7525909 , 0.2474091 ],\n",
       "       [0.77499845, 0.22500155],\n",
       "       [0.55301331, 0.44698669],\n",
       "       [0.68790296, 0.31209704],\n",
       "       [0.76358945, 0.23641055],\n",
       "       [0.55387362, 0.44612638],\n",
       "       [0.65768043, 0.34231957],\n",
       "       [0.60685573, 0.39314427],\n",
       "       [0.72317208, 0.27682792],\n",
       "       [0.76512712, 0.23487288],\n",
       "       [0.76095242, 0.23904758],\n",
       "       [0.69031467, 0.30968533],\n",
       "       [0.68153627, 0.31846373]])"
      ]
     },
     "execution_count": 118,
     "metadata": {},
     "output_type": "execute_result"
    }
   ],
   "source": [
    "test_predict_prob_1= mlp.predict_proba(X_test)\n",
    "test_predict_prob_1"
   ]
  },
  {
   "cell_type": "markdown",
   "id": "ca35e32e-71d8-47d9-ad21-c76bc44d0b24",
   "metadata": {},
   "source": [
    "#### Evaluación del MLP\n",
    "\n",
    "Calculamos la matriz de confusión, algunas métricas de evaluación habituales, y el coeficiente <b>AUC</b> o <b>ROC</b> y el <b>gini</b> los modelos."
   ]
  },
  {
   "cell_type": "code",
   "execution_count": 123,
   "id": "0d530f17-a7c9-45ce-a9e3-c1b7d2cd1ba3",
   "metadata": {
    "tags": []
   },
   "outputs": [
    {
     "data": {
      "text/plain": [
       "<Axes: >"
      ]
     },
     "execution_count": 123,
     "metadata": {},
     "output_type": "execute_result"
    },
    {
     "data": {
      "image/png": "[encoded data removed]",
      "text/plain": [
       "<Figure size 640x480 with 2 Axes>"
      ]
     },
     "metadata": {},
     "output_type": "display_data"
    }
   ],
   "source": [
    "cm = confusion_matrix(y_test, test_predicción_1)\n",
    "sns.heatmap(cm, annot=True, fmt=\"d\")"
   ]
  },
  {
   "cell_type": "code",
   "execution_count": 127,
   "id": "cc4ea448-1baa-40fc-8d94-69c8f402cb35",
   "metadata": {
    "tags": []
   },
   "outputs": [
    {
     "name": "stdout",
     "output_type": "stream",
     "text": [
      "              precision    recall  f1-score   support\n",
      "\n",
      "           0       0.72      0.85      0.78       161\n",
      "           1       0.68      0.49      0.57       106\n",
      "\n",
      "    accuracy                           0.71       267\n",
      "   macro avg       0.70      0.67      0.67       267\n",
      "weighted avg       0.70      0.71      0.70       267\n",
      "\n"
     ]
    }
   ],
   "source": [
    "print(classification_report(y_test,test_predicción_1))"
   ]
  },
  {
   "cell_type": "markdown",
   "id": "acaef165-0199-4695-8018-86756aada605",
   "metadata": {},
   "source": [
    "Para obtener la curva y métrica ROC, volvemos a utilziar las probabilidades esitmadas (en lugar de las clases)."
   ]
  },
  {
   "cell_type": "code",
   "execution_count": 130,
   "id": "79478aa1-4da6-416f-9381-43ab2dda32ce",
   "metadata": {
    "tags": []
   },
   "outputs": [
    {
     "ename": "NameError",
     "evalue": "name 'test_predic_prob_1' is not defined",
     "output_type": "error",
     "traceback": [
      "\u001b[1;31m---------------------------------------------------------------------------\u001b[0m",
      "\u001b[1;31mNameError\u001b[0m                                 Traceback (most recent call last)",
      "Cell \u001b[1;32mIn[130], line 1\u001b[0m\n\u001b[1;32m----> 1\u001b[0m fpr_1,tpr_1,umbrales_1\u001b[38;5;241m=\u001b[39mroc_curve(y_test, test_predic_prob_1[:,\u001b[38;5;241m1\u001b[39m], pos_label \u001b[38;5;241m=\u001b[39m \u001b[38;5;241m1\u001b[39m)\n",
      "\u001b[1;31mNameError\u001b[0m: name 'test_predic_prob_1' is not defined"
     ]
    }
   ],
   "source": [
    "fpr_1,tpr_1,umbrales_1=roc_curve(y_test, test_predic_prob_1[:,1], pos_label = 1)"
   ]
  }
 ],
 "metadata": {
  "kernelspec": {
   "display_name": "Python 3 (ipykernel)",
   "language": "python",
   "name": "python3"
  },
  "language_info": {
   "codemirror_mode": {
    "name": "ipython",
    "version": 3
   },
   "file_extension": ".py",
   "mimetype": "text/x-python",
   "name": "python",
   "nbconvert_exporter": "python",
   "pygments_lexer": "ipython3",
   "version": "3.11.7"
  }
 },
 "nbformat": 4,
 "nbformat_minor": 5
}
